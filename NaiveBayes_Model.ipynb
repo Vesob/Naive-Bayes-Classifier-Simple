{
  "nbformat": 4,
  "nbformat_minor": 0,
  "metadata": {
    "colab": {
      "name": "NaiveBayes_Model.ipynb",
      "provenance": [],
      "collapsed_sections": []
    },
    "kernelspec": {
      "name": "python3",
      "display_name": "Python 3"
    }
  },
  "cells": [
    {
      "cell_type": "code",
      "metadata": {
        "id": "_Wy6NrNcKM4k",
        "colab_type": "code",
        "colab": {}
      },
      "source": [
        "import pandas as pd"
      ],
      "execution_count": 1,
      "outputs": []
    },
    {
      "cell_type": "code",
      "metadata": {
        "id": "VwDsrMGVKksq",
        "colab_type": "code",
        "colab": {}
      },
      "source": [
        "#For using datasets in our drive\n",
        "from google.colab import drive"
      ],
      "execution_count": 2,
      "outputs": []
    },
    {
      "cell_type": "code",
      "metadata": {
        "id": "JFHYldqXKmKP",
        "colab_type": "code",
        "colab": {
          "base_uri": "https://localhost:8080/",
          "height": 122
        },
        "outputId": "22f297fd-5622-40a1-bee5-2e654675b9a1"
      },
      "source": [
        "drive.mount('/content/drive')"
      ],
      "execution_count": 3,
      "outputs": [
        {
          "output_type": "stream",
          "text": [
            "Go to this URL in a browser: https://accounts.google.com/o/oauth2/auth?client_id=947318989803-6bn6qk8qdgf4n4g3pfee6491hc0brc4i.apps.googleusercontent.com&redirect_uri=urn%3aietf%3awg%3aoauth%3a2.0%3aoob&scope=email%20https%3a%2f%2fwww.googleapis.com%2fauth%2fdocs.test%20https%3a%2f%2fwww.googleapis.com%2fauth%2fdrive%20https%3a%2f%2fwww.googleapis.com%2fauth%2fdrive.photos.readonly%20https%3a%2f%2fwww.googleapis.com%2fauth%2fpeopleapi.readonly&response_type=code\n",
            "\n",
            "Enter your authorization code:\n",
            "··········\n",
            "Mounted at /content/drive\n"
          ],
          "name": "stdout"
        }
      ]
    },
    {
      "cell_type": "code",
      "metadata": {
        "id": "bjuYNCawKno2",
        "colab_type": "code",
        "colab": {
          "base_uri": "https://localhost:8080/",
          "height": 34
        },
        "outputId": "2b7bad9f-f784-4705-a030-963836d09353"
      },
      "source": [
        "#Get to data - \n",
        "%cd 'drive/My Drive/Enlight'"
      ],
      "execution_count": 4,
      "outputs": [
        {
          "output_type": "stream",
          "text": [
            "/content/drive/My Drive/Enlight\n"
          ],
          "name": "stdout"
        }
      ]
    },
    {
      "cell_type": "code",
      "metadata": {
        "id": "lXCwD5hvKsyu",
        "colab_type": "code",
        "colab": {}
      },
      "source": [
        "df = pd.read_csv(\"cleaned_news.csv\")"
      ],
      "execution_count": 5,
      "outputs": []
    },
    {
      "cell_type": "code",
      "metadata": {
        "id": "OIICUNMQKytO",
        "colab_type": "code",
        "colab": {
          "base_uri": "https://localhost:8080/",
          "height": 204
        },
        "outputId": "174c97d5-8ce1-4db1-da49-d8c9e022bbfb"
      },
      "source": [
        "df.head()"
      ],
      "execution_count": 6,
      "outputs": [
        {
          "output_type": "execute_result",
          "data": {
            "text/html": [
              "<div>\n",
              "<style scoped>\n",
              "    .dataframe tbody tr th:only-of-type {\n",
              "        vertical-align: middle;\n",
              "    }\n",
              "\n",
              "    .dataframe tbody tr th {\n",
              "        vertical-align: top;\n",
              "    }\n",
              "\n",
              "    .dataframe thead th {\n",
              "        text-align: right;\n",
              "    }\n",
              "</style>\n",
              "<table border=\"1\" class=\"dataframe\">\n",
              "  <thead>\n",
              "    <tr style=\"text-align: right;\">\n",
              "      <th></th>\n",
              "      <th>text</th>\n",
              "      <th>fake_news</th>\n",
              "    </tr>\n",
              "  </thead>\n",
              "  <tbody>\n",
              "    <tr>\n",
              "      <th>0</th>\n",
              "      <td>Donald Trump just couldn t wish all Americans ...</td>\n",
              "      <td>1</td>\n",
              "    </tr>\n",
              "    <tr>\n",
              "      <th>1</th>\n",
              "      <td>House Intelligence Committee Chairman Devin Nu...</td>\n",
              "      <td>1</td>\n",
              "    </tr>\n",
              "    <tr>\n",
              "      <th>2</th>\n",
              "      <td>On Friday, it was revealed that former Milwauk...</td>\n",
              "      <td>1</td>\n",
              "    </tr>\n",
              "    <tr>\n",
              "      <th>3</th>\n",
              "      <td>On Christmas day, Donald Trump announced that ...</td>\n",
              "      <td>1</td>\n",
              "    </tr>\n",
              "    <tr>\n",
              "      <th>4</th>\n",
              "      <td>Pope Francis used his annual Christmas Day mes...</td>\n",
              "      <td>1</td>\n",
              "    </tr>\n",
              "  </tbody>\n",
              "</table>\n",
              "</div>"
            ],
            "text/plain": [
              "                                                text  fake_news\n",
              "0  Donald Trump just couldn t wish all Americans ...          1\n",
              "1  House Intelligence Committee Chairman Devin Nu...          1\n",
              "2  On Friday, it was revealed that former Milwauk...          1\n",
              "3  On Christmas day, Donald Trump announced that ...          1\n",
              "4  Pope Francis used his annual Christmas Day mes...          1"
            ]
          },
          "metadata": {
            "tags": []
          },
          "execution_count": 6
        }
      ]
    },
    {
      "cell_type": "markdown",
      "metadata": {
        "id": "XnmNIcrAMMr-",
        "colab_type": "text"
      },
      "source": [
        "#Naive Multinomial Bayes with Sklearn"
      ]
    },
    {
      "cell_type": "code",
      "metadata": {
        "id": "eXVGw0utKz0u",
        "colab_type": "code",
        "colab": {}
      },
      "source": [
        "#Split data into independent and dependent variables\n",
        "DV = \"fake_news\" #the dependent variable, text is independent here\n",
        "X = df.drop([DV], axis = 1) #drop from our X array because this it the text data to be trained\n",
        "Y = df[DV]"
      ],
      "execution_count": 7,
      "outputs": []
    },
    {
      "cell_type": "code",
      "metadata": {
        "id": "HaE3pIa0MhNf",
        "colab_type": "code",
        "colab": {}
      },
      "source": [
        "from sklearn.model_selection import train_test_split"
      ],
      "execution_count": 8,
      "outputs": []
    },
    {
      "cell_type": "code",
      "metadata": {
        "id": "kHcUl1hPNAZf",
        "colab_type": "code",
        "colab": {}
      },
      "source": [
        "#Train 75% of the data, 25% for testing\n",
        "X_train, X_test, Y_train, Y_test = train_test_split(X,Y, test_size=0.25)"
      ],
      "execution_count": 9,
      "outputs": []
    },
    {
      "cell_type": "code",
      "metadata": {
        "id": "mpoKxUkXNRB3",
        "colab_type": "code",
        "colab": {}
      },
      "source": [
        "#Convert words into bag of words model with sklearns CountVectorizer\n",
        "from sklearn.feature_extraction.text import CountVectorizer"
      ],
      "execution_count": 10,
      "outputs": []
    },
    {
      "cell_type": "code",
      "metadata": {
        "id": "CJ-GMrflNdn3",
        "colab_type": "code",
        "colab": {}
      },
      "source": [
        "count_vect = CountVectorizer(max_features = 5000) #limit to 5000 unique words, but room to mess around is here\n",
        "\n",
        "X_train_counts = count_vect.fit_transform(X_train['text'])\n",
        "#print(count_vect.vocabulary_) #here is our bag of words\n",
        "\n",
        "X_test = count_vect.transform(X_test['text']) # note, this is not fit to the model"
      ],
      "execution_count": 11,
      "outputs": []
    },
    {
      "cell_type": "code",
      "metadata": {
        "id": "TBOrTdgSODyP",
        "colab_type": "code",
        "colab": {
          "base_uri": "https://localhost:8080/",
          "height": 54
        },
        "outputId": "4a0cec48-43b0-4b58-f069-6883d836e972"
      },
      "source": [
        "print(count_vect.vocabulary_)"
      ],
      "execution_count": 12,
      "outputs": [
        {
          "output_type": "stream",
          "text": [
            "{'best': 573, 'known': 2543, 'as': 410, 'new': 3033, 'york': 4983, 'hedge': 2124, 'fund': 1916, 'industry': 2312, 'executive': 1648, 'anthony': 336, 'scaramucci': 3959, 'president': 3439, 'donald': 1422, 'trump': 4647, 'incoming': 2287, 'communications': 966, 'director': 1360, 'has': 2091, 'in': 2276, 'film': 1797, 'company': 971, 'manhattan': 2769, 'and': 312, 'business': 706, 'accused': 145, 'by': 714, 'regulators': 3719, 'of': 3103, 'making': 2756, 'false': 1729, 'claims': 885, '2015': 40, 'financial': 1802, 'show': 4109, 'overall': 3197, 'assets': 429, 'range': 3620, 'approximately': 380, 'million': 2875, 'to': 4565, '85': 105, 'the': 4502, 'forms': 1869, 'he': 2105, 'also': 286, 'such': 4352, 'personal': 3311, 'loans': 2687, 'between': 576, '25': 53, 'income': 2286, 'since': 4134, 'start': 4263, '2016': 41, 'more': 2932, 'than': 4498, '10': 2, 'is': 2407, 'mostly': 2939, 'from': 1905, 'capital': 749, 'investment': 2388, 'that': 4501, 'founded': 1878, '2005': 30, 'now': 3074, 'process': 3484, 'selling': 4024, 'join': 2463, 'administration': 182, 'disclosure': 1369, 'says': 3954, 'stands': 4260, 'make': 2754, '50': 81, 'sale': 3933, 'which': 4896, 'said': 3932, 'may': 2807, 'would': 4961, 'likely': 2661, 'close': 905, 'june': 2494, 'deal': 1218, 'on': 3129, 'hold': 2167, 'pending': 3286, 'regulatory': 3720, 'review': 3847, 'its': 2426, 'foreign': 1860, 'linked': 2670, 'did': 1341, 'not': 3063, 'respond': 3814, 'request': 3784, 'for': 1854, 'comment': 951, 'his': 2156, 'wife': 4910, 'listed': 2674, '250': 54, 'investor': 2390, 'relations': 3729, 'work': 4948, 'at': 438, 'starting': 4265, 'last': 2574, 'year': 4977, 'spokeswoman': 4232, 'no': 3046, 'longer': 2700, 'works': 4953, 'firm': 1814, 'but': 710, 'say': 3952, 'when': 4892, 'she': 4085, 'left': 2620, 'document': 1407, 'obtained': 3092, 'politico': 3382, 'was': 4845, 'made': 2738, 'office': 3112, 'government': 2001, 'ethics': 1616, 'appointment': 372, 'chief': 845, 'strategy': 4309, 'officer': 3113, 'export': 1680, 'bank': 506, 'thursday': 4546, 'leadership': 2601, 'web': 4869, 'page': 3219, 'first': 1816, 'reported': 3768, 'wednesday': 4872, 'it': 2421, 'twitter': 4672, 'criminal': 1153, 'leak': 2605, 'later': 2576, 'deleted': 1268, 'tweet': 4666, 'form': 1863, 'public': 3554, 'available': 470, 'proud': 3539, 'son': 4187, 'what': 4890, 'calls': 722, 'blue': 619, 'long': 2699, 'island': 2412, 'an': 306, 'baseball': 520, 'team': 4455, 'paid': 3221, 'him': 2151, '53': 85, '000': 1, 'over': 3196, 'half': 2062, 'much': 2957, 'media': 2825, 'online': 3134, 'football': 1853, 'love': 2721, 'entertainment': 1581, 'particularly': 3249, 'hollywood': 2173, 'kind': 2530, 'apparent': 354, 'investments': 2389, 'include': 2282, '100': 3, 'stake': 4251, 'behind': 553, 'american': 299, 'wall': 4829, 'street': 4311, 'money': 2924, 'never': 3032, 'according': 136, 'reports': 3773, 'have': 2101, 'himself': 2152, '2010': 35, 'stone': 4295, 'produced': 3486, 'hit': 2163, 'shows': 4113, 'crazy': 1140, 'boys': 647, 'movie': 2951, 'production': 3490, 'about': 119, 'group': 2031, 'high': 2142, 'school': 3970, 'girls': 1969, 'who': 4900, 'take': 4426, 'stand': 4255, 'against': 226, 'bullying': 697, 'real': 3649, 'estate': 1611, 'property': 3518, 'where': 4894, 'wealthy': 4863, 'often': 3119, 'spend': 4222, 'their': 4504, 'summer': 4370, 'loan': 2686, 'up': 4727, 'restaurant': 3822, 'co': 915, 'owns': 3212, 'hunt': 2223, 'club': 913, 'with': 4931, 'celebrities': 795, 'professional': 3492, 'types': 4675, 'during': 1468, 'dinner': 1351, 'there': 4511, 'smaller': 4157, 'one': 3131, 'worth': 4960, '30': 59, 'two': 4673, 'companies': 970, 'previously': 3452, 'led': 2618, 'lindsey': 2666, 'related': 3728, 'settled': 4063, 'charges': 834, 'federal': 1761, 'trade': 4599, 'commission': 955, 'claiming': 884, 'green': 2024, 'cause': 785, 'weight': 4877, 'loss': 2713, 'dr': 1440, 'view': 4781, 'unclear': 4688, 'another': 331, 'small': 4156, 'holding': 2169, 'life': 2654, 'settlement': 4064, 'services': 4054, 'inc': 2279, 'exact': 1638, 'nature': 2996, 'settlements': 4065, 'are': 384, 'generally': 1952, 'product': 3489, 'policy': 3377, 'owners': 3210, 'sell': 4023, 'rights': 3864, 'insurance': 2347, 'third': 4522, 'party': 3257, 'exchange': 1644, 'cash': 774, 'while': 4897, 'they': 4515, 'still': 4291, 'alive': 267, 'islamic': 2410, 'terrorist': 4486, 'threatened': 4534, 'reportedly': 3769, 'conservative': 1030, 'before': 545, 'attack': 441, 'had': 2058, 'been': 544, 'threatening': 4535, 'telling': 4468, 'islam': 2409, 'will': 4914, 'rule': 3911, 'world': 4954, 'christians': 861, 'jews': 2452, 'deserve': 1307, 'die': 1343, 'going': 1985, 'cdata': 790, 'function': 1915, 'id': 2230, 'js': 2482, 'fjs': 1821, 'if': 2240, 'return': 3834, 'connect': 1022, 'facebook': 1705, 'net': 3027, 'version': 4767, 'script': 3984, 'took': 4578, 'my': 2974, 'friend': 1902, 'yesterday': 4981, 'san': 3938, 'posted': 3408, 'december': 1232, 'friday': 1901, 'murdered': 2965, 'via': 4773, 'gateway': 1944, 'pundit': 3564, 'okay': 3124, 'let': 2632, 'address': 178, 'this': 4524, 'hillary': 2150, 'might': 2862, 'win': 4920, 'popular': 3391, 'vote': 4812, 'isn': 2414, 'electoral': 1519, 'college': 932, 'situation': 4144, 'just': 2497, 'awful': 481, 'thing': 4517, 'head': 2106, 'great': 2020, 'importance': 2266, 'your': 4987, 'yet': 4982, 'again': 225, 'once': 3130, 'creation': 1144, 'founding': 1880, 'all': 268, 'probably': 3476, 'actual': 169, 'number': 3078, 'votes': 4816, 'cast': 775, 'states': 4271, 'don': 1421, 'count': 1118, 'ballots': 501, 'unless': 4716, 'larger': 2570, 'state': 4267, 'margin': 2778, 'difference': 1345, '300': 60, 'then': 4508, 'those': 4526, 'wouldn': 4962, 'influence': 2316, 'election': 1517, 'results': 3829, 'aren': 387, 'ballot': 500, 'students': 4333, 'overseas': 3201, 'military': 2871, 'etc': 1615, 'historical': 2160, '33': 63, 'republican': 3781, '2000': 25, 'al': 254, 'won': 4942, '500': 82, 'liberal': 2642, 'murder': 2964, 'were': 4886, 'california': 717, 'alone': 282, 'advantage': 197, 'so': 4162, 'bush': 705, 'gotten': 1998, 'victory': 4777, 'headline': 2109, 'times': 4557, 'lead': 2598, 'story': 4304, 'nbc': 3001, 'news': 3035, 'right': 3863, 'you': 4984, 're': 3638, 'getting': 1963, 'back': 484, 'lose': 2711, 'scenario': 3963, 'thank': 4499, 'we': 4860, 'or': 3161, 'else': 1528, 'determine': 1326, 'every': 1630, 'time': 4555, 'out': 3183, 'voting': 4817, 'among': 303, 'regions': 3710, 'farmers': 1738, 'middle': 2861, 'country': 1124, 'get': 1961, 'roughly': 3900, 'equal': 1592, 'do': 1404, 'factory': 1714, 'workers': 4951, 'tennessee': 4475, 'sure': 4390, 'can': 735, 'very': 4768, 'few': 1778, 'heavily': 2122, 'vice': 4774, 'without': 4935, 'entire': 1582, 'population': 3393, 'subject': 4340, 'most': 2938, 'somalia': 4178, 'islamist': 2411, 'insurgency': 2349, 'shot': 4104, 'four': 1881, 'men': 2840, 'monday': 2922, 'insurgents': 2350, 'control': 1075, 'southern': 4201, 'region': 3708, 'even': 1624, 'offensive': 3107, 'them': 4505, 'captured': 752, 'weeks': 4876, 'ago': 235, 'publicly': 3556, 'today': 4566, 'after': 221, 'court': 1131, 'ruling': 3914, 'admitting': 188, 'mohamed': 2915, 'abu': 125, 'governor': 2003, 'phone': 3324, 'other': 3177, 'somali': 4177, 'intelligence': 2355, 'controlled': 1076, 'lies': 2652, 'south': 4199, 'seeking': 4011, 'african': 220, 'nation': 2985, 'pushed': 3574, '2011': 36, 'union': 4704, 'controls': 1077, 'large': 2568, 'parts': 3256, 'trying': 4652, 'overthrow': 3204, 'weak': 4861, 'backed': 485, 'impose': 2269, 'strict': 4316, 'law': 2588, 'civil': 878, 'war': 4837, 'dictator': 1340, 'turned': 4661, 'each': 1474, 'syrian': 4419, 'bashar': 522, 'assad': 421, 'interview': 2374, 'russian': 3924, 'television': 4466, 'elect': 1515, 'could': 1113, 'become': 540, 'natural': 2994, 'ally': 280, 'damascus': 1198, 'fighting': 1787, 'terrorism': 4485, 'fight': 1784, 'be': 531, 'our': 3180, 'speaking': 4212, 'through': 4540, 'broadcast': 675, 'encouraged': 1554, 'campaign': 729, 'violent': 4794, 'internal': 2369, 'affairs': 210, 'countries': 1123, 'carry': 767, 'promises': 3507, 'thanks': 4500, 'funding': 1919, 'gop': 1995, 'majority': 2753, 'congress': 1019, 'approved': 379, 'end': 1556, 'obama': 3084, 'plans': 3349, 'actually': 170, 'increase': 2288, 'refugees': 3697, 'muslims': 2971, 'bring': 669, 'us': 4738, 'hell': 2126, 'national': 2986, 'security': 4006, 'white': 4898, 'house': 2203, 'staff': 4246, 'prepared': 3432, 'defend': 1253, 'united': 4709, 'accept': 129, 'syria': 4418, 'some': 4179, 'lawmakers': 2590, 'demand': 1274, 'apply': 369, 'background': 487, 'checks': 841, 'iraq': 2401, 'asked': 416, 'christian': 860, 'science': 3974, 'monitor': 2925, 'washington': 4846, 'how': 2209, 'greater': 2021, 'scrutiny': 3985, 'certain': 805, 'entering': 1580, 'sees': 4018, 'resettlement': 3797, 'priority': 3467, 'continue': 1060, 'controversial': 1078, 'reasons': 3657, 'pointed': 3371, 'speech': 4218, 'night': 3041, 'point': 3370, 'accepting': 132, 'adds': 181, 'interest': 2362, 'put': 3576, 'oppose': 3153, 'current': 1180, 'policies': 3376, 'tough': 4588, 'beat': 534, 'focus': 1841, 'll': 2685, 'see': 4007, 'goes': 1984, 'expand': 1657, 'believes': 561, 'budget': 690, 'passed': 3260, 'allows': 279, 'speaker': 4211, 'britain': 672, 'parliament': 3240, 'must': 2972, 'zero': 4993, 'tolerance': 4571, 'sexual': 4071, 'harassment': 2080, 'anyone': 344, 'within': 4934, 'parliamentary': 3241, 'alleged': 271, 'misconduct': 2891, 'here': 2133, 'elsewhere': 1529, 'john': 2461, 'told': 4570, 'earlier': 1476, 'theresa': 4513, 'spokesman': 4230, 'british': 673, 'prime': 3460, 'minister': 2882, 'deeply': 1249, 'concerned': 991, 'ivanka': 2428, 'lady': 2561, 'internet': 2372, 'her': 2132, 'way': 4858, 'conservatives': 1031, 'treated': 4628, 'michelle': 2858, 'eight': 1510, 'years': 4978, 'ugly': 4678, 'racism': 3604, 'father': 1743, 'billions': 592, 'people': 3291, 'around': 399, 'hasn': 2092, 'exactly': 1639, 'done': 1427, 'like': 2660, 'either': 1511, 'despite': 1314, 'use': 4740, 'presidency': 3438, 'conduct': 1003, 'allowed': 277, 'daughter': 1207, 'sit': 4140, 'meetings': 2832, 'leaders': 2600, 'week': 4873, 'deals': 1221, 'japan': 2437, 'happened': 2076, 'present': 3435, 'meeting': 2831, 'japanese': 2438, 'abe': 113, 'line': 2667, 'listening': 2676, 'talked': 4432, 'rather': 3634, 'social': 4163, 'decided': 1234, 'action': 157, 'writing': 4968, 'amazon': 294, 'absolutely': 124, 'brilliant': 668, 'products': 3491, 'jobs': 2459, 'america': 298, 'nazis': 3000, 'these': 4514, 'chinese': 851, 'perfect': 3297, 'whether': 4895, 'walking': 4828, 'streets': 4312, 'moscow': 2936, 'dad': 1191, 'away': 479, 'annual': 328, 'others': 3178, 'however': 2211, 'sent': 4034, 'me': 2816, 'whom': 4903, 'pay': 3274, 'having': 2103, 'lost': 2715, 'healthcare': 2114, 'mom': 2918, 'offered': 3109, 'lives': 2683, 'off': 3104, 'desire': 1311, 'own': 3207, 'admission': 185, 'women': 4941, 'ever': 1629, 'feel': 1764, 'because': 538, 'weren': 4887, 'into': 2377, 'hot': 2198, 'attention': 452, 'praise': 3421, 'too': 4577, 'busy': 709, 'wearing': 4867, 'found': 1876, 'myself': 2976, 'unable': 4685, 'speak': 4210, 'wrote': 4972, 'tried': 4634, 'express': 1685, 'opinions': 3148, 'find': 1804, 'embarrassing': 1534, 'nor': 3058, 'walk': 4825, 'far': 1736, 'finding': 1805, 'progress': 3499, 'turn': 4659, 'bought': 642, 'good': 1992, 'instead': 2340, 'massive': 2794, 'amounts': 305, 'already': 285, '20': 23, '17': 12, 'hoping': 2188, 'need': 3008, 'whole': 4902, 'update': 4729, 'ordered': 3164, 'hope': 2183, 'gets': 1962, 'deeper': 1248, 'daily': 1192, 'basis': 525, 'many': 2773, 'hilarious': 2148, 'better': 575, 'used': 4741, 'only': 3135, 'themselves': 4507, 'republicans': 3782, 'blame': 603, 'featured': 1757, 'image': 2251, 'mark': 2782, 'getty': 1964, 'images': 2252, 'ambassador': 295, 'nations': 2990, 'nikki': 3043, 'haley': 2061, 'options': 3160, 'remained': 3743, 'table': 4422, 'including': 2285, 'possible': 3405, 'oil': 3122, 'embargo': 1532, 'venezuela': 4763, 'move': 2946, 'restore': 3823, 'democratic': 1280, 'lot': 2716, 'support': 4378, 'latin': 2578, 'respect': 3812, 'go': 1980, 'democracy': 1278, 'supposed': 4384, 'reporters': 3771, 'things': 4518, 'improve': 2273, 'always': 291, 'added': 174, 'saying': 3953, 'specifically': 4216, 'possibility': 3404, 'tell': 4467, 'insider': 2332, 'author': 464, 'barack': 515, 'involvement': 2395, 'exposing': 1684, 'email': 1530, 'scandal': 3957, 'several': 4067, 'months': 2928, 'americans': 300, 'fbi': 1750, 'investigation': 2384, 'fact': 1711, 'encouraging': 1555, 'down': 1437, 'report': 3767, 'manner': 2770, 'shall': 4074, 'un': 4684, 'presidential': 3440, 'seems': 4016, 'bill': 589, 'receiving': 3665, 'well': 4883, 'clinton': 901, 'demanding': 1276, 'call': 718, 'king': 2532, 'looking': 2705, 'emails': 1531, 'oval': 3195, 'book': 632, 'problem': 3478, 'former': 1867, 'furious': 1925, 'believed': 560, 'damaging': 1197, 'leaks': 2607, 'aides': 245, 'investigations': 2385, 'private': 3471, 'server': 4051, 'secretary': 3998, 'went': 4885, 'top': 4581, 'settle': 4062, 'matter': 2801, 'requested': 3785, 'advice': 199, 'being': 555, 'minor': 2886, 'violations': 4792, 'writes': 4967, 'initially': 2322, 'friendly': 1903, 'approach': 374, 'didn': 1342, 'know': 2540, 'talking': 4433, 'almost': 281, 'deliberately': 1269, 'source': 4197, 'really': 3654, 'angered': 318, 'called': 719, 'name': 2978, 'driven': 1455, 'break': 655, 'want': 4833, 'allegedly': 272, 'account': 137, 'cited': 871, 'sources': 4198, 'senior': 4031, 'adviser': 201, 'demands': 1277, 'needed': 3009, 'moment': 2919, 'responded': 3815, 'nothing': 3067, 'set': 4058, 'motion': 2942, 'interfere': 2366, 'problems': 3479, 'frankly': 1892, 'honest': 2178, 'clintons': 902, 'front': 1906, 'runner': 3918, 'showed': 4110, 'someone': 4182, 'should': 4106, 'ed': 1494, 'anything': 345, 'true': 4645, 'consistent': 1037, 'lack': 2560, 'relationship': 3730, 'facts': 1715, 'hair': 2059, 'credibility': 1145, 'man': 2760, 'outrageous': 3191, 'mission': 2898, 'candidate': 742, 'secret': 3997, 'service': 4053, 'agents': 232, 'husband': 2226, 'history': 2162, 'hard': 2081, 'influential': 2317, 'catalan': 778, 'lobby': 2688, 'extremely': 1697, 'worried': 4956, 'prospect': 3526, 'catalonia': 779, 'declaring': 1241, 'independence': 2297, 'spain': 4206, 'both': 640, 'sides': 4119, 'talks': 4434, 'declaration': 1238, 'complex': 982, 'unknown': 4715, 'serious': 4047, 'consequences': 1029, 'statement': 4269, 'condemned': 1000, 'violence': 4793, 'sunday': 4373, 'spanish': 4207, 'relationships': 3731, 'riot': 3866, 'police': 3375, 'seen': 4017, 'beating': 535, 'attempting': 447, 'illegal': 2248, 'congressional': 1020, 'agreed': 237, 'pass': 3258, 'extension': 1691, 'debt': 1228, 'limit': 2663, 'until': 4724, 'dec': 1229, '15': 9, 'covering': 1136, 'same': 3937, 'period': 3303, 'disaster': 1365, 'aid': 243, 'hurricane': 2224, 'harvey': 2090, 'victims': 4776, 'senate': 4026, 'leader': 2599, 'chuck': 865, 'schumer': 3973, 'nancy': 2981, 'pelosi': 3280, 'intention': 2360, 'look': 2703, 'forward': 1873, 'working': 4952, 'together': 4568, 'issues': 2420, 'clear': 893, 'strongly': 4325, 'believe': 559, 'dream': 1446, 'act': 154, 'come': 942, 'floor': 1835, 'soon': 4190, 'rest': 3821, 'hosts': 2197, 'fox': 1883, 'friends': 1904, 'minnesota': 2885, 'immigrants': 2257, 'community': 969, 'got': 1997, 'handed': 2068, 'saturday': 3945, '22': 50, 'old': 3126, 'inside': 2331, 'mall': 2759, 'st': 4243, 'nominee': 3053, 'fear': 1753, 'hate': 2096, 'response': 3817, 'cancer': 740, 'benefits': 565, 'isis': 2408, 'host': 2193, 'steve': 4288, 'named': 2979, 'carlson': 763, 'lawsuit': 2592, 'network': 3029, 'william': 4915, 'anderson': 313, 'assessment': 427, 'clearly': 895, 'bad': 491, 'unite': 4708, 'divide': 1397, 'job': 2458, 'safety': 3931, 'immigration': 2258, 'vast': 4757, 'citizens': 875, 'fine': 1807, 'divisive': 1401, 'expect': 1661, 'draw': 1443, 'closer': 908, 'day': 1211, 'explained': 1674, 'enforcement': 1567, 'members': 2836, 'protect': 3529, 'east': 1484, 'meet': 2830, 'regularly': 3716, 'any': 341, 'advocates': 207, 'specific': 4215, 'different': 1347, 'makes': 2755, 'wonderful': 4944, 'place': 3340, 'live': 2681, 'sound': 4195, 'truth': 4650, 'established': 1609, 'maintained': 2750, 'ended': 1557, 'wanted': 4834, 'video': 4778, 'matters': 2802, 'simply': 4133, 'actions': 158, 'why': 4905, 'reach': 3639, 'pushing': 3575, 'ending': 1558, 'circle': 868, 'term': 4480, 'remember': 3748, 'exist': 1652, 'unnecessary': 4720, 'created': 1142, 'power': 3416, 'rise': 3868, 'furthermore': 1927, 'concerns': 993, 'refuse': 3699, 'declare': 1239, 'give': 1971, 'full': 1912, 'resources': 3811, 'organization': 3168, 'regardless': 3705, 'forget': 1862, 'committed': 960, 'oklahoma': 3125, 'city': 877, 'bombing': 628, '1995': 20, 'killed': 2525, 'nine': 3044, 'black': 601, 'church': 866, 'acts': 168, 'domestic': 1419, 'born': 637, 'immigrant': 2256, 'referred': 3689, 'terror': 4484, 'screenshot': 3983, 'bannon': 512, 'knows': 2544, 'press': 3442, 'politicians': 3381, 'doing': 1415, 'deep': 1247, 'evil': 1636, 'trouble': 4641, 'please': 3361, '16': 11, '00': 0, 'hear': 2116, 'worse': 4958, 'germany': 1960, 'clashes': 888, 'following': 1848, 'jerusalem': 2447, 'israel': 2416, 'ministry': 2884, 'france': 1887, 'warned': 4839, 'website': 4870, 'demonstrations': 1284, 'expected': 1663, 'nationals': 2989, 'avoid': 473, 'crowds': 1168, 'west': 4888, 'gaza': 1949, 'travel': 4621, 'palestinian': 3226, 'german': 1959, 'berlin': 569, '2017': 42, 'strip': 4321, 'ruled': 3912, 'advised': 200, 'closely': 907, 'local': 2691, 'affected': 212, 'areas': 386, 'officials': 3118, 'tuesday': 4655, 'embassy': 1536, 'nobody': 3048, 'accuse': 144, 'sean': 3988, 'hannity': 2074, 'knowing': 2541, 'tonight': 4575, 'writer': 4966, 'ben': 563, 'suddenly': 4355, 'play': 3353, 'seemed': 4014, 'enjoy': 1573, 'protester': 3535, 'stage': 4249, 'hypocrisy': 2228, 'calling': 721, 'stupid': 4338, 'little': 2680, 'bit': 598, 'complete': 979, '2012': 37, 'drawn': 1445, 'instance': 2339, 'george': 1957, 'wasn': 4847, 'seeing': 4008, 'pointing': 3372, 'controversy': 1079, 'due': 1466, 'ongoing': 3133, 'persecution': 3309, 'onto': 3136, 'ridiculous': 3860, 'face': 1704, 'stay': 4277, 'something': 4183, 'hero': 2135, 'alex': 261, 'wong': 4945, 'commercial': 954, 'guess': 2041, 'whose': 4904, 'voice': 4809, 'system': 4420, 'rigged': 3862, 'begins': 549, 'ad': 171, 'actor': 165, 'bruce': 685, 'familiar': 1730, 'certainly': 806, '66': 97, 'antonio': 340, 'native': 2992, 'regular': 3715, 'appeared': 361, 'funny': 1924, 'enough': 1575, '2001': 26, 'smith': 4159, 'ali': 263, 'hispanic': 2157, 'official': 3116, 'legally': 2624, 'yeah': 4976, 'guy': 2052, 'brexit': 660, 'follow': 1845, 'european': 1621, 'promised': 3506, 'strike': 4317, 'bilateral': 588, 'kingdom': 2533, 'london': 2697, 'newspaper': 3036, 'five': 1819, 'days': 1212, 'inauguration': 2278, 'described': 1302, 'big': 583, 'fan': 1734, 'endorsed': 1560, 'leave': 2613, 'think': 4519, 'gone': 1990, 'uk': 4679, '23': 51, 'investors': 2391, 'executives': 1649, 'surprise': 4393, 'political': 3378, 'biggest': 585, 'fall': 1725, 'dollar': 1417, 'fallen': 1726, 'further': 1926, 'businesses': 707, 'type': 4674, 'single': 4137, 'trading': 4600, 'partner': 3253, 'leaves': 2614, 'bloc': 611, 'seized': 4020, 'example': 1640, 'voters': 4815, 'rising': 3869, 'establishment': 1610, 'leading': 2602, 'fierce': 1782, 'critic': 1156, 'raised': 3611, 'questions': 3590, 'future': 1929, 'special': 4214, 'ties': 4551, 'decades': 1231, 'played': 3354, 'mother': 2941, 'queen': 3586, 'elizabeth': 1527, 'eager': 1475, 'gonna': 1991, 'quickly': 3592, 'properly': 3517, 'predicted': 3428, 'seek': 4009, 'quit': 3595, 'eu': 1618, 'keep': 2506, 'europe': 1620, 'angry': 319, 'chancellor': 821, 'angela': 315, 'merkel': 2846, 'open': 3138, 'door': 1430, 'afghanistan': 217, 'mid': 2860, 'mistake': 2901, 'final': 1798, 'cabinet': 715, 'course': 1130, 'minority': 2888, 'ny': 3082, 'wake': 4824, 'tweeting': 4668, 'insults': 2346, 'newly': 3034, 'elected': 1516, 'refused': 3700, 'july': 2490, 'regarding': 3704, 'ill': 2247, 'partisan': 3251, 'plan': 3343, 'immediately': 2255, 'repeal': 3757, 'affordable': 215, 'care': 757, 'otherwise': 3179, 'obamacare': 3085, 'replace': 3762, 'addressed': 179, 'stuff': 4336, 'health': 2113, 'understand': 4695, 'difficult': 1348, 'spot': 4236, 'idea': 2231, 'continued': 1061, 'names': 2980, 'roll': 3889, 'replacement': 3764, 'cover': 1133, 'gained': 1932, 'coverage': 1134, 'post': 3407, '21': 47, '26': 55, 'parents': 3237, 'pre': 3425, 'existing': 1654, 'conditions': 1002, 'step': 4283, 'indeed': 2296, 'though': 4527, 've': 4759, 'six': 4145, 'continues': 1062, 'transition': 4616, 'insulting': 2345, 'damn': 1199, 'mental': 2841, 'capitol': 750, 'hill': 2149, 'dnc': 1403, 'delivered': 1271, 'heart': 2120, 'emotional': 1544, 'girl': 1968, 'boy': 645, 'thinking': 4520, 'less': 2631, 'doesn': 1413, 'twice': 4671, 'neck': 3007, 'help': 2127, 'pretty': 3447, 'everything': 1633, 'lie': 2650, 'crowd': 1167, 'millions': 2876, 'watching': 4853, 'tv': 4665, 'poor': 3389, 'suffering': 4360, 'massachusetts': 2792, 'helped': 2128, 'part': 3242, 'la': 2557, 'abandoned': 110, 'young': 4985, '14': 8, 'saved': 3948, 'grade': 2008, 'teacher': 4453, 'saw': 3951, 'eat': 1487, 'lunch': 2729, 'brought': 683, 'extra': 1694, 'food': 1850, 'share': 4077, 'stuck': 4331, 'lift': 2656, 'learned': 2610, 'words': 4947, 'faith': 1723, 'ways': 4859, 'children': 849, 'defense': 1257, 'mass': 2791, 'behalf': 551, 'denied': 1287, 'chance': 820, 'badly': 492, 'seem': 4013, 'couldn': 1114, 'stop': 4297, 'child': 847, 'became': 537, 'drive': 1454, 'change': 823, 'laws': 2591, 'understanding': 4696, 'gathered': 1945, 'built': 694, 'coalition': 917, 'convince': 1085, 'ensure': 1576, 'access': 133, 'education': 1501, 'watch': 4850, 'mayor': 2809, 'happen': 2075, 'democrat': 1279, 'living': 2684, 'retired': 3832, 'judge': 2484, 'character': 831, 'beyond': 577, 'jack': 2429, 'eligible': 1524, 'municipal': 2963, 'pension': 3289, 'double': 1433, 'schools': 3971, 'january': 2436, 'drivers': 1457, 'provided': 3545, 'bus': 704, 'pick': 3332, 'drop': 1460, 'homes': 2177, 'able': 116, 'injured': 2325, 'accident': 134, 'came': 725, 'advocate': 206, 'disabled': 1362, 'spent': 4224, 'challenges': 815, 'cutting': 1187, 'martin': 2788, 'aide': 244, 'jean': 2442, 'juncker': 2493, 'agreement': 238, 'divorce': 1402, 'terms': 4481, 'picture': 3335, 'symbol': 4417, 'pope': 3390, 'negotiator': 3016, 'michel': 2857, 'brussels': 686, 'determined': 1327, 'assassination': 423, 'attempt': 445, 'anti': 337, 'attempted': 446, 'sign': 4120, 'supporters': 4381, 'surrounded': 4396, 'gun': 2049, 'excuse': 1647, 'released': 3735, 'repeat': 3759, 'information': 2318, 'early': 1477, 'morning': 2934, 'stopped': 4298, 'posting': 3409, 'somehow': 4181, 'palin': 3228, 'bullshit': 695, 'hours': 2202, 'determination': 1325, 'rally': 3617, 'degree': 1261, 'weather': 4868, 'decide': 1233, 'november': 3073, 'ass': 420, 'kill': 2524, 'dishonest': 1381, 'steel': 4280, 'pic': 3331, 'com': 939, 'wow': 4964, 'ex': 1637, 'holds': 2170, 'yes': 4980, 'fully': 1913, 'assault': 424, 'scary': 3962, 'ryan': 3926, 'spreading': 4239, 'miller': 2874, 'feels': 1767, 'paper': 3231, 'guns': 2051, 'free': 1894, 'needs': 3010, 'adults': 193, 'talk': 4431, 'gay': 1948, 'republic': 3780, 'cut': 1185, 'jonathan': 2469, 'liar': 2641, 'laughing': 2582, 'stock': 4292, 'mentally': 2842, 'seriously': 4048, 'kevin': 2518, 'voter': 4814, 'truly': 4646, 'ready': 3647, 'cooperation': 1092, 'investigators': 2387, 'data': 1205, 'hand': 2067, 'efforts': 1507, 'slow': 4155, 'cooperate': 1091, 'turning': 4662, 'users': 4743, 'privacy': 3470, 'visits': 4805, 'operating': 3143, 'met': 2850, 'committee': 961, 'platform': 3352, 'shouldn': 4107, 'relevant': 3737, 'valley': 4751, 'activity': 164, 'committees': 962, 'issue': 2418, 'major': 2752, 'google': 1994, 'faced': 1706, 'stream': 4310, 'recent': 3666, 'revelations': 3843, 'sought': 4194, 'favor': 1745, 'disclosed': 1368, 'month': 2927, 'politically': 3379, 'russia': 3923, 'shared': 4078, 'ads': 191, 'targeted': 4440, 'addition': 176, 'provide': 3544, 'accounts': 140, 'pressing': 3444, 'similar': 4130, 'urging': 4737, 'comprehensive': 986, 'search': 3989, 'banks': 509, 'limits': 2665, 'targeting': 4441, 'based': 521, 'race': 3601, 'religion': 3739, 'taking': 4429, 'investigate': 2381, 'attempts': 448, 'abuse': 126, 'systems': 4421, 'researchers': 3795, 'assistance': 430, 'spokesperson': 4231, 'potentially': 3412, 'requiring': 3792, 'order': 3163, 'track': 4598, 'record': 3675, 'defending': 1256, 'user': 4742, 'requests': 3786, 'adam': 172, 'sharp': 4082, 'person': 3310, 'technology': 4460, 'agencies': 228, 'concluded': 995, 'broader': 677, 'effort': 1506, 'allegation': 269, 'kremlin': 2549, 'counsel': 1117, 'robert': 3880, 'mueller': 2958, 'investigating': 2383, 'interference': 2367, 'potential': 3411, 'collusion': 934, 'associates': 434, 'september': 4043, 'evidence': 1635, 'operation': 3144, 'thousands': 4531, 'sponsored': 4234, 'posts': 3410, 'promoting': 3511, 'messages': 2849, 'contacts': 1051, 'recently': 3667, 'denying': 1291, 'existence': 1653, 'acknowledged': 150, 'traffic': 4604, 'research': 3794, 'agency': 229, 'ones': 3132, 'spread': 4238, 'fake': 1724, 'groups': 2032, 'seemingly': 4015, 'legitimate': 2629, 'texas': 4495, 'second': 3995, 'followers': 1847, 'appear': 359, 'organizations': 3169, 'learn': 2609, 'lawyers': 2595, 'argued': 389, 'additional': 177, 'compromise': 987, 'promise': 3505, 'legal': 2623, 'primaries': 3457, 'coming': 948, 'securing': 4004, 'nomination': 3052, 'reality': 3651, 'welcome': 4880, 'ck': 881, 'wrong': 4970, 'racist': 3605, 'proof': 3514, 'points': 3373, 'positions': 3401, 'although': 290, 'individuals': 2308, 'worldwide': 4955, 'none': 3056, 'comedian': 943, 'read': 3643, 'perfectly': 3298, 'tweets': 4669, 'crude': 1171, 'paying': 3275, 'vile': 4785, 'fault': 1744, 'band': 504, 'pathetic': 3268, 'sad': 3928, 'cruz': 1172, 'march': 2776, 'youtube': 4991, 'rex': 3852, 'tillerson': 4553, 'exxon': 1701, 'corp': 1100, 'employees': 1548, 'board': 620, 'primary': 3459, 'attorney': 454, 'general': 1951, 'eric': 1599, 'climate': 900, 'accusing': 146, 'hide': 2140, 'discuss': 1374, 'received': 3664, 'activists': 162, 'important': 2267, 'operations': 3145, 'reference': 3687, 'past': 3264, 'vowed': 4818, 'reverse': 3846, 'steps': 4287, 'taken': 4427, 'risk': 3870, 'ceo': 803, 'does': 1412, 'employee': 1547, 'upon': 4730, 'revealed': 3840, 'pattern': 3272, 'environmental': 1588, 'filing': 1794, 'next': 3037, 'case': 772, 'corporation': 1102, 'supreme': 4389, 'county': 1126, 'rebuild': 3660, 'puerto': 3558, 'rico': 3858, 'infrastructure': 2320, 'maria': 2779, 'unique': 4706, 'emergency': 1539, 'management': 2764, 'projects': 3503, 'typical': 4676, 'reuters': 3838, 'advisers': 202, 'estimate': 1612, 'requires': 3791, 'ticket': 4548, 'provision': 3551, 'aimed': 247, 'protecting': 3531, 'taxpayer': 4448, 'dollars': 1418, 'grants': 2014, '90': 106, 'percent': 3294, 'costs': 1111, 'level': 2636, '75': 102, 'home': 2175, 'bankruptcy': 508, 'struggling': 4330, 'billion': 590, 'finances': 1801, 'under': 4692, 'sector': 4001, 'estimates': 1614, 'total': 4585, 'damage': 1195, 'deliver': 1270, 'irma': 2405, 'caused': 786, 'western': 4889, 'obviously': 3094, 'figure': 1788, 'amount': 304, 'fiscal': 1817, 'storm': 4303, 'ground': 2029, 'economy': 1493, 'tax': 4446, 'revenues': 3845, 'halt': 2064, '150': 10, 'package': 3216, 'create': 1141, 'precedent': 3426, 'giving': 1974, 'grant': 2012, 'program': 3497, 'relatively': 3732, 'procedures': 3481, '2013': 38, 'section': 4000, 'provides': 3547, 'scale': 3955, 'allow': 276, 'spending': 4223, 'segment': 4019, 'normally': 3060, 'tapped': 4437, 'outside': 3193, 'build': 691, 'three': 4538, 'purchase': 3568, 'conference': 1007, 'estimated': 1613, 'suspected': 4403, 'corruption': 1108, 'questioned': 3588, 'emerged': 1538, 'benjamin': 567, 'netanyahu': 3028, 'lawyer': 2594, 'represented': 3777, 'marine': 2781, 'agent': 231, 'raising': 3613, 'conflict': 1013, 'wrongdoing': 4971, 'discussed': 1375, 'justice': 2498, 'february': 1759, 'suspect': 4402, 'addressing': 180, 'opposition': 3158, 'hopes': 2187, 'contribution': 1072, 'euros': 1622, 'finance': 1800, 'signed': 4123, 'normal': 3059, 'ukraine': 4680, 'returned': 3835, 'crimea': 1151, 'comments': 952, 'allies': 275, 'nato': 2993, 'ministers': 2883, 'tougher': 4589, 'stance': 4254, 'vladimir': 4807, 'putin': 3577, 'vietnam': 4780, 'denial': 1286, 'accusations': 143, 'criticized': 1160, 'undermine': 4694, 'institutions': 2343, 'computer': 988, 'campaigns': 732, 'significant': 4124, 'blamed': 604, 'diplomat': 1353, 'meddling': 2824, 'investigated': 2382, 'repeatedly': 3761, 'alarmed': 257, 'diplomatic': 1354, 'initiatives': 2324, 'trip': 4639, 'partly': 3252, 'stressed': 4315, 'crisis': 1155, 'sparked': 4208, '2014': 39, 'central': 800, 'blocked': 613, 'sovereign': 4202, 'territory': 4483, 'unacceptable': 4686, 'ukrainian': 4681, 'forces': 1857, 'claimed': 883, 'erupted': 1601, 'denies': 1288, 'arms': 397, 'fighters': 1786, 'dying': 1473, 'awarded': 476, 'honor': 2181, 'hoped': 2184, 'agree': 236, 'troops': 4640, 'eastern': 1485, 'internationally': 2371, 'ceasefire': 791, 'broken': 679, 'peace': 3278, 'stalled': 4252, 'resume': 3830, 'mandate': 2767, 'force': 1855, 'given': 1972, 'scope': 3977, 'sanctions': 3939, 'imposed': 2270, 'freeze': 1896, 'broad': 674, 'consensus': 1027, 'dialogue': 1339, 'tired': 4561, 'jeff': 2444, 'sessions': 4057, 'usual': 4746, 'confirmed': 1012, 'position': 3400, 'crimes': 1152, 'intel': 2353, 'realdonaldtrump': 3650, 'stepped': 4285, 'acting': 156, 'spicer': 4225, 'mess': 2847, 'announced': 325, 'resign': 3801, 'formally': 1865, 'role': 3887, 'august': 460, 'duty': 1472, 'try': 4651, 'justify': 2500, 'whatever': 4891, 'aware': 478, 'firing': 1813, 'straight': 4305, 'wants': 4836, 'msnbc': 2956, 'enormous': 1574, 'tension': 4477, 'sort': 4193, 'detail': 1319, 'holder': 2168, 'fit': 1818, 'odds': 3101, 'credit': 1147, 'willing': 4917, 'guys': 2053, 'kennedy': 2512, 'brother': 680, 'thinks': 4521, 'solidarity': 4173, 'interesting': 2364, 'department': 1292, 'planned': 3347, 'philippines': 3322, 'senator': 4027, 'weapons': 4865, 'human': 2216, 'alternative': 289, 'complicated': 984, 'duterte': 1470, 'reaction': 3642, 'criticism': 1158, 'battle': 528, 'rid': 3859, 'drugs': 1465, 'connection': 1025, 'international': 2370, 'sales': 3935, 'informed': 2319, '27': 56, 'stopping': 4299, 'ronald': 3893, 'supporter': 4380, 'rifle': 3861, 'suggested': 4363, 'china': 850, 'broadcaster': 676, 'push': 3573, 'maybe': 2808, 'october': 3100, 'ignore': 2243, 'rhetoric': 3853, 'grown': 2035, 'tune': 4656, 'alternate': 288, 'radio': 3608, 'acr': 152, 'boiler': 626, 'room': 3894, 'pm': 3367, 'est': 1607, 'bar': 514, 'fly': 1838, 'corner': 1099, 'animals': 320, 'along': 283, 'side': 4117, 'alt': 287, 'reporting': 3772, 'va': 4749, 'patrick': 3270, 'henningsen': 2131, '21st': 48, 'century': 802, 'wire': 4927, '21wire': 49, 'brain': 649, 'trust': 4648, 'experience': 1668, 'scene': 3964, 'cars': 769, 'involved': 2394, 'run': 3917, 'style': 4339, 'event': 1626, 'multiple': 2961, 'injuries': 2326, 'direct': 1356, 'episode': 1591, 'visit': 4801, 'donate': 1423, 'links': 2671, 'consideration': 1033, 'started': 4264, 'citing': 873, 'declined': 1243, 'confirm': 1010, 'tensions': 4478, 'missile': 2895, 'organized': 3170, 'protesters': 3536, 'brand': 651, 'detroit': 1328, 'protest': 3534, 'kid': 2522, 'rock': 3882, 'concert': 994, 'using': 4745, 'confederate': 1006, 'flag': 1822, 'expectations': 1662, 'award': 475, 'helping': 2129, 'body': 624, 'remarks': 3747, 'expressing': 1687, 'colin': 925, 'kaepernick': 2502, 'anthem': 335, 'protests': 3538, 'fears': 1755, 'challenging': 816, 'debbie': 1227, 'stamp': 4253, 'stephen': 4284, 'editorial': 1498, 'editor': 1497, 'criticize': 1159, 'gold': 1986, 'served': 4050, 'suggesting': 4364, 'rich': 3855, 'cultural': 1175, 'music': 2969, 'issued': 2419, 'inequality': 2313, 'francisco': 1889, 'challenge': 813, 'silent': 4129, 'game': 1935, 'embrace': 1537, 'sadly': 3929, 'buy': 711, 'hateful': 2097, 'examples': 1641, 'videos': 4779, 'mainstream': 2748, 'dan': 1200, 'fans': 1735, 'sat': 3944, 'michigan': 2859, 'celebrating': 794, 'birthday': 597, 'family': 1732, 'guest': 2042, 'celebrate': 793, 'sharing': 4081, 'army': 398, 'suffered': 4359, 'deployment': 1296, '70': 100, 'grew': 2027, 'worked': 4949, 'finally': 1799, 'wounded': 4963, 'helps': 2130, 'couple': 1128, 'baghdad': 493, 'visited': 4802, 'combat': 940, 'zone': 4996, '2008': 33, 'christmas': 863, 'freedom': 1895, 'language': 2567, 'warning': 4841, 'danger': 1201, 'funds': 1922, 'performed': 3301, 'raise': 3610, 'amazing': 293, 'playing': 3357, 'attended': 450, 'surprising': 4395, 'gift': 1966, 'boost': 634, 'placed': 3341, 'urged': 4736, 'incumbent': 2295, 'juan': 2483, 'orlando': 3176, 'defeat': 1250, 'fled': 1826, 'entered': 1579, 'renewed': 3755, 'french': 1897, 'refugee': 3696, 'commissioner': 956, 'preparing': 3433, '40': 70, 'fleeing': 1828, 'jose': 2473, 'representative': 3775, 'cycle': 1189, 'soldiers': 4171, 'dead': 1215, 'least': 2612, 'english': 1572, 'oct': 3099, 'adding': 175, 'closed': 906, 'borders': 636, 'began': 546, 'nearly': 3004, 'teachers': 4454, 'wider': 4908, 'cross': 1164, 'worst': 4959, 'humanitarian': 2217, 'lake': 2564, 'displaced': 1384, 'imagine': 2253, 'hardly': 2083, 'persons': 3315, 'feeling': 1765, 'legacy': 2622, 'league': 2604, 'divided': 1398, 'allied': 274, 'secured': 4003, 'fourth': 1882, 'exit': 1656, 'polls': 3386, 'indicated': 2304, 'shock': 4094, 'democrats': 1281, '32': 62, 'largest': 2571, 'poll': 3384, 'closest': 909, 'rivals': 3873, 'center': 798, 'spd': 4209, 'low': 2724, 'afd': 208, '13': 7, 'longest': 2701, 'serving': 4055, 'late': 2575, 'elections': 1518, 'partners': 3254, 'protection': 3532, 'proposed': 3521, 'rules': 3913, 'carbon': 754, 'emissions': 1542, 'coal': 916, 'fired': 1812, 'plants': 3351, 'scott': 3978, 'pruitt': 3553, 'sued': 4357, 'status': 4276, 'undocumented': 4699, 'credits': 1148, 'exchanges': 1645, 'becoming': 542, 'filed': 1791, 'joined': 2464, 'lawsuits': 2593, 'dozen': 1438, 'litigation': 2679, 'brief': 663, 'besides': 572, 'air': 249, 'fought': 1875, 'regulations': 3718, 'banking': 507, 'whenever': 4893, 'chances': 822, 'attorneys': 455, 'coordinated': 1093, 'cases': 773, 'unprecedented': 4722, 'pace': 3214, 'unit': 4707, 'seeks': 4012, 'means': 2819, 'governing': 2000, 'melania': 2834, 'convention': 1080, 'failed': 1717, 'networks': 3030, 'gathering': 1946, 'promising': 3508, 'ratings': 3636, 'seven': 4066, 'cable': 716, 'watched': 4852, 'evening': 1625, '11': 4, 'hour': 2201, 'formal': 1864, 'figures': 1789, 'audience': 456, 'businessman': 708, 'drew': 1450, 'huge': 2215, 'debates': 1226, 'nominating': 3051, 'contests': 1058, 'star': 4261, 'throw': 4542, 'traditional': 4602, 'analysts': 309, '38': 68, 'viewers': 4783, 'mitt': 2903, 'romney': 3891, 'running': 3919, 'channel': 827, 'abc': 111, 'facing': 1710, 'threats': 4537, 'extremism': 1698, 'religious': 3740, 'manage': 2762, 'practice': 3419, 'xi': 4974, 'jinping': 2457, 'guard': 2038, 'prevent': 3448, 'extremist': 1699, 'ideology': 2238, 'restrict': 3824, 'effect': 1502, 'wang': 4832, 'bureau': 701, 'thought': 4528, 'places': 3342, 'bans': 513, 'communist': 967, 'protected': 3530, 'activities': 163, 'restrictions': 3825, 'describe': 1301, 'culture': 1176, 'maintain': 2749, 'correct': 1105, 'path': 3267, 'socialist': 4164, 'society': 4165, 'officially': 3117, 'forum': 1872, 'topic': 4582, 'held': 2125, 'beijing': 554, 'effectively': 1504, 'banned': 510, 'revolution': 3850, 'argue': 388, 'higher': 2143, 'authorities': 465, 'registered': 3712, 'reflect': 3691, 'paragraph': 3234, 'station': 4273, 'highway': 2147, 'near': 3002, 'edge': 1495, 'australia': 461, 'rural': 3921, 'result': 3826, 'mine': 2879, 'town': 4595, 'hundred': 2220, 'approached': 375, 'travelers': 4623, 'across': 153, 'oh': 3120, 'truck': 4642, 'driver': 1456, 'williams': 4916, 'everybody': 1631, 'nov': 3072, 'wave': 4857, 'decade': 1230, 'absence': 122, 'growing': 2034, 'test': 4488, 'prominent': 3504, 'wing': 4923, 'nationalist': 2987, 'joining': 2465, 'global': 1977, 'populist': 3394, 'park': 3239, 'definitely': 1259, 'road': 3877, 'schedule': 3966, 'towns': 4596, 'arriving': 405, 'hall': 2063, '400': 71, 'miles': 2868, 'usually': 4747, 'involving': 2396, 'stories': 4302, 'heard': 2117, 'trail': 4608, 'foreigners': 1861, 'buying': 712, 'land': 2565, 'taxes': 4447, 'complaints': 978, 'energy': 1565, 'prices': 3454, 'ban': 503, 'muslim': 2970, 'migrants': 2864, 'condemnation': 999, 'cities': 872, 'viewed': 4782, 'extreme': 1696, 'save': 3947, 'suggest': 4362, 'success': 4348, '1990s': 16, 'handful': 2069, 'seats': 3992, 'appears': 363, 'strong': 4322, 'producing': 3488, 'fields': 1781, 'comes': 945, 'politician': 3380, 'shake': 4073, 'labor': 2558, 'speaks': 4213, '24': 52, 'modern': 2912, 'movement': 2948, 'river': 3874, 'port': 3395, 'mining': 2881, 'unlikely': 4718, 'successful': 4349, 'managing': 2766, 'chip': 852, 'shop': 4101, 'struggle': 4328, 'fraud': 1893, '2003': 28, 'eventually': 1628, 'momentum': 2921, 'howard': 2210, 'seat': 3991, 'mainly': 2747, 'area': 385, 'diverse': 1395, '1980s': 15, 'looks': 2706, 'changes': 825, 'proving': 3550, 'parties': 3250, 'anywhere': 347, 'compared': 972, 'offers': 3111, 'items': 2425, 'ideas': 2232, 'spring': 4240, 'price': 3453, 'bizarre': 600, 'typically': 4677, 'sensitive': 4033, 'russians': 3925, 'cannot': 744, 'walls': 4831, 'collapse': 926, 'mr': 2953, 'critics': 1162, 'entry': 1586, 'cap': 745, 'shirt': 4092, 'alongside': 284, 'succeed': 4347, 'gaining': 1933, 'capable': 747, 'everyone': 1632, '19': 14, 'kids': 2523, 'explosive': 1679, 'famous': 1733, 'josh': 2475, 'leaving': 2615, 'knew': 2539, 'responsible': 3820, 'woman': 4940, 'magazine': 2741, 'sick': 4116, 'insane': 2330, 'beliefs': 558, 'prove': 3540, 'admit': 186, 'reporter': 3770, 'broke': 678, 'ultimately': 4683, 'resignation': 3802, 'council': 1116, 'filled': 1796, 'reveal': 3839, 'sitting': 4143, 'expose': 1682, 'camps': 733, 'bigotry': 587, 'dangerous': 1202, 'causing': 788, 'terrible': 4482, 'harm': 2085, 'bringing': 670, 'list': 2673, 'causes': 787, 'ultimate': 4682, 'brave': 652, 'charles': 837, 'grassley': 2016, 'answers': 334, 'jr': 2481, 'visa': 4798, 'chairman': 811, 'judiciary': 2488, 'written': 4969, 'dhs': 1338, 'bottom': 641, 'fusion': 1928, 'gps': 2005, 'connected': 1023, 'dossier': 1432, 'golden': 1987, 'incident': 2280, 'hired': 2154, 'christopher': 864, 'steele': 4281, 'produce': 3485, 'wild': 4912, 'profile': 3494, 'carter': 771, 'inner': 2327, 'https': 2212, '2017the': 43, 'prevented': 3449, 'key': 2519, 'arguing': 390, 'particular': 3248, 'fire': 1810, 'refusing': 3702, 'shocked': 4095, 'neither': 3024, 'mrs': 2954, 'self': 4022, 'performance': 3300, 'entitled': 1585, 'greatest': 2022, 'mike': 2866, 'bloomberg': 617, 'harvard': 2089, 'message': 2848, 'spoke': 4228, 'reason': 3655, 'insisting': 2335, 'integrity': 2352, 'ran': 3618, 'highest': 2144, 'thirds': 4523, 'james': 2434, 'comey': 946, 'class': 889, 'division': 1399, 'desperately': 1313, 'unity': 4711, 'highly': 2146, 'consider': 1032, 'families': 1731, 'voted': 4813, 'opponent': 3149, 'daughters': 1208, 'benghazi': 566, 'conspiracy': 1039, 'question': 3587, 'beginning': 548, 'classified': 890, 'destroy': 1315, 'reveals': 3842, 'earned': 1478, 'missed': 2894, 'opportunity': 3152, 'begin': 547, 'putting': 3579, 'above': 120, 'politics': 3383, 'briefly': 667, 'supporting': 4382, 'peaceful': 3279, 'transfer': 4614, 'apparently': 355, 'heavy': 2123, 'continuing': 1063, 'dramatic': 1442, 'sarah': 3943, 'bet': 574, 'savings': 3950, 'empire': 1545, 'sold': 4169, 'glass': 1975, 'ignored': 2244, 'tells': 4469, 'gender': 1950, 'studies': 4334, 'changing': 826, 'learning': 2611, 'progressive': 3500, 'bernie': 571, 'sanders': 3941, 'opportunities': 3151, 'poverty': 3414, 'growth': 2036, 'nixon': 3045, 'impeachment': 2261, 'obstruction': 3090, 'resigned': 3803, 'delivering': 1272, 'reviewed': 3848, 'loud': 2718, 'johnson': 2462, 'golf': 1989, 'louisiana': 2720, 'flood': 1834, 'homeland': 2176, 'devastating': 1329, 'vacation': 4750, 'commit': 957, 'everywhere': 1634, 'breitbart': 658, 'designated': 1309, 'sites': 4142, 'utah': 4748, 'nevada': 3031, 'latest': 2577, '35': 65, 'considered': 1034, 'blow': 618, 'residents': 3800, 'add': 173, 'development': 1334, 'common': 964, 'las': 2573, 'vegas': 4760, 'bundy': 699, 'armed': 396, 'standoff': 4259, 'includes': 2284, 'art': 406, 'rare': 3630, 'discovered': 1370, 'generations': 1954, 'appreciate': 373, 'historic': 2159, 'vulnerable': 4819, 'ahead': 241, 'drilling': 1451, 'expansion': 1660, 'upcoming': 4728, 'reduce': 3683, 'protections': 3533, 'rep': 3756, 'rob': 3879, 'opposes': 3155, 'presidents': 3441, 'uses': 4744, 'jason': 2440, 'chaffetz': 808, 'noted': 3065, 'approval': 377, 'market': 2784, 'touch': 4587, 'release': 3734, 'camp': 728, 'admitted': 187, 'sometimes': 4184, 'mocked': 2909, 'delay': 1263, 'releasing': 3736, 'leftist': 2621, 'scheduled': 3967, 'owned': 3208, 'allowing': 278, 'citizen': 874, 'contest': 1056, 'shooting': 4099, 'campus': 734, 'university': 4714, 'killing': 2527, 'prior': 3465, 'apartment': 350, 'intended': 2356, 'granted': 2013, 'exists': 1655, 'felony': 1772, 'arrests': 402, 'conviction': 1084, 'simple': 4132, 'barred': 517, 'hearing': 2118, 'extend': 1689, 'gives': 1973, 'vehicle': 4761, 'los': 2710, 'angeles': 316, 'assistant': 431, 'michael': 2856, 'moore': 2930, 'caller': 720, 'bigger': 584, 'neighborhood': 3019, 'minutes': 2890, 'mate': 2796, 'tim': 4554, 'kaine': 2503, 'waiting': 4823, 'cleveland': 896, 'tom': 4572, 'starts': 4266, '80': 103, 'ted': 4461, 'speeches': 4219, 'festival': 1777, 'tiny': 4559, 'ohio': 3121, 'resolution': 3806, 'north': 3061, 'korea': 2547, 'solution': 4174, 'sergei': 4044, 'lavrov': 2587, 'spoken': 4229, 'cyber': 1188, 'critical': 1157, 'attacks': 444, 'governments': 2002, 'hackers': 2056, 'records': 3678, 'pose': 3398, 'threat': 4532, 'largely': 2569, 'favorable': 1746, 'experts': 1671, 'goals': 1982, 'develop': 1330, 'heads': 2112, 'framework': 1886, 'developed': 1331, 'institute': 2341, 'standards': 4257, 'prepare': 3431, 'implement': 2262, 'adopt': 189, 'require': 3787, 'opened': 3139, 'frequently': 1899, 'theft': 4503, 'personnel': 3314, 'briefing': 665, 'daniel': 1203, 'praised': 3422, 'qualified': 3583, 'impact': 2260, 'moving': 2952, 'toward': 4592, 'environment': 1587, 'devices': 1336, 'measure': 2822, 'pulled': 3561, 'alarm': 256, 'hacked': 2055, 'conclusion': 996, 'garland': 1939, 'confirmation': 1011, 'hearings': 2119, 'iowa': 2397, 'block': 612, 'appeals': 358, 'currently': 1181, 'serves': 4052, 'privately': 3472, 'lisa': 2672, 'moderate': 2911, 'nominated': 3050, 'fill': 1795, 'feb': 1758, 'death': 1223, 'antonin': 339, 'scalia': 3956, 'advance': 194, 'prompting': 3513, 'ignoring': 2245, 'constitutional': 1044, 'obligations': 3088, 'insist': 2333, 'jan': 2435, 'choose': 855, 'essential': 1605, 'dark': 1204, 'dirty': 1361, 'senators': 4028, 'explaining': 1675, 'views': 4784, 'letter': 2633, 'association': 435, 'stated': 4268, 'refusal': 3698, 'judicial': 2487, 'branch': 650, 'effective': 1503, 'lower': 2725, 'courts': 1132, 'tea': 4452, 'ipsos': 2398, 'included': 2283, 'conducted': 1004, 'april': 381, '12': 5, '55': 87, 'split': 4227, 'lines': 2668, 'sweeping': 4414, 'legislation': 2625, 'eliminate': 1525, 'breaks': 657, 'representatives': 3776, 'powerful': 3417, 'housing': 2205, 'affect': 211, 'mortgage': 2935, 'individual': 2307, 'retirement': 3833, 'payments': 3277, 'reform': 3693, 'trillion': 4638, 'cuts': 1186, 'faces': 1707, 'file': 1790, 'fast': 1741, 'separate': 4040, 'bills': 593, 'holiday': 2172, 'differences': 1346, 'send': 4029, 'legislative': 2626, 'overhaul': 3199, 'delayed': 1264, 'member': 2835, 'firms': 1815, 'value': 4752, 'offer': 3108, 'opposed': 3154, 'defeated': 1251, 'jerry': 2445, 'brady': 648, 'phase': 3320, 'lobbyists': 2690, 'pressure': 3445, 'bob': 622, 'corker': 1098, 'cbs': 789, 'proposal': 3519, 'deduction': 1245, 'upper': 4731, 'jersey': 2446, 'gave': 1947, 'weekend': 4874, 'remain': 3742, 'taxpayers': 4449, 'peter': 3318, 'raises': 3612, 'representing': 3778, 'unions': 4705, 'rejected': 3727, 'outright': 3192, 'rely': 3741, 'significantly': 4125, 'sharply': 4083, 'contributions': 1073, 'programs': 3498, 'permit': 3306, 'invest': 2380, 'option': 3159, 'mccarthy': 2813, '18': 13, 'falling': 1727, 'short': 4102, 'goal': 1981, 'deficit': 1258, 'increases': 2290, 'kasich': 2505, 'medicare': 2828, 'medicaid': 2826, 'identity': 2236, 'sex': 4069, 'site': 4141, 'article': 407, 'principles': 3464, 'statements': 4270, 'principle': 3463, 'link': 2669, 'leads': 2603, 'hispanics': 2158, 'lgbt': 2640, 'ethnic': 1617, 'vision': 4800, 'pieces': 3338, 'tactics': 4424, 'liberals': 2643, 'ideological': 2237, 'declared': 1240, 'columbia': 938, 'professor': 3493, 'abortion': 117, 'piece': 3337, 'owner': 3209, 'mentioned': 2844, 'god': 1983, 'transparent': 4618, 'chosen': 858, 'decision': 1236, 'software': 4167, 'anonymity': 329, 'developer': 1332, 'andrew': 314, 'cnn': 914, 'expert': 1670, 'expensive': 1667, 'argument': 391, 'applied': 368, 'anonymous': 330, 'intent': 2359, 'space': 4205, 'recovery': 3681, 'physical': 3330, 'destruction': 1318, 'experienced': 1669, 'repeated': 3760, 'questioning': 3589, 'crooked': 1163, 'tweeted': 4667, 'responding': 3816, 'jones': 2470, 'published': 3557, 'amid': 301, 'outcome': 3184, 'independent': 2298, 'wisconsin': 4928, 'clip': 903, 'debate': 1225, 'below': 562, 'barely': 516, 'enter': 1578, 'van': 4754, 'memorial': 2839, 'medical': 2827, 'required': 3788, 'ceremony': 804, 'heat': 2121, 'carried': 765, 'arm': 395, 'foot': 1851, 'grave': 2018, 'prosecuted': 3522, 'grow': 2033, 'documented': 1409, 'expanded': 1658, 'numbers': 3079, 'connections': 1026, 'indictment': 2306, 'loyalty': 2728, 'crime': 1150, 'rooms': 3895, 'books': 633, '2020': 46, 'announcement': 326, 'hat': 2094, 'ring': 3865, 'wait': 4822, 'secure': 4002, 'failure': 1720, 'chair': 810, 'panel': 3230, 'code': 920, 'facilities': 1708, 'engagement': 1570, 'competitive': 975, 'earth': 1480, 'immediate': 2254, 'bipartisan': 595, 'shown': 4112, 'signs': 4127, 'paul': 3273, 'benefit': 564, 'border': 635, 'imports': 2268, 'considering': 1035, 'funded': 1918, 'expects': 1664, 'counter': 1119, 'supports': 4383, 'korean': 2548, 'ballistic': 499, 'missiles': 2896, 'deployed': 1295, 'mexico': 2854, 'fellow': 1771, 'asia': 412, 'regional': 3709, 'focused': 1842, 'nuclear': 3077, 'originally': 3175, 'sept': 4042, '2018': 44, 'dismissed': 1382, '700': 101, 'navy': 2998, 'ships': 4091, 'increased': 2289, 'levels': 2637, 'mccain': 2812, 'joint': 2466, 'welcomed': 4881, 'looked': 2704, 'deserves': 1308, 'sets': 4060, 'pentagon': 3290, 'amendment': 296, 'completed': 980, 'posed': 3399, 'regime': 3707, 'capabilities': 746, 'launched': 2584, 'equipment': 1595, 'designed': 1310, 'boeing': 625, 'contractor': 1065, 'attacking': 443, 'claim': 882, 'hotel': 2199, 'federation': 1762, '2007': 32, 'sworn': 4416, 'intellectual': 2354, 'remains': 3745, 'assume': 436, 'date': 1206, 'charge': 832, 'series': 4046, 'circumstances': 870, 'interviews': 2376, 'conducting': 1005, 'conflicts': 1014, 'fuel': 1910, 'burning': 703, 'becomes': 541, 'happy': 2079, 'campaigned': 730, 'profits': 3496, 'defended': 1255, 'alliance': 273, 'fair': 1721, 'unfair': 4701, 'behavior': 552, 'safe': 3930, 'equally': 1594, 'corrupt': 1107, 'fun': 1914, 'bitter': 599, 'huckabee': 2213, 'promoted': 3510, 'losing': 2712, 'speculation': 4217, 'honestly': 2179, 'impossible': 2272, 'innocent': 2328, 'attacked': 442, 'referring': 3690, 'smart': 4158, 'unfortunately': 4703, 'attitude': 453, 'completely': 981, 'guilty': 2046, 'prosecutors': 3525, 'merely': 2845, 'pledge': 3362, 'ability': 115, 'write': 4965, 'rescue': 3793, 'weekly': 4875, 'agenda': 230, 'ranking': 3622, 'resistance': 3805, 'houses': 2204, 'pledged': 3363, 'priorities': 3466, 'philadelphia': 3321, 'repealing': 3758, 'roads': 3878, 'pipeline': 3339, 'strategist': 4308, 'massacre': 2793, 'emmanuel': 1543, 'chris': 859, 'wallace': 4830, 'shootings': 4100, 'guarantee': 2037, 'remove': 3752, 'wish': 4929, 'easy': 1486, 'answer': 332, 'bigoted': 586, 'throughout': 4541, 'belief': 557, 'mean': 2817, 'basically': 524, 'somebody': 4180, 'zealand': 4992, 'labour': 2559, 'trans': 4612, 'pacific': 3215, 'partnership': 3255, 'tpp': 4597, 'frontrunner': 1907, 'curb': 1178, 'bid': 581, 'cool': 1089, 'ownership': 3211, 'provisions': 3552, 'original': 3174, 'aims': 248, 'economies': 1491, 'thrown': 4544, 'remaining': 3744, 'implementation': 2263, 'combined': 941, 'changed': 824, 'failing': 1718, 'tackle': 4423, 'crack': 1137, 'banning': 511, 'describing': 1304, 'rose': 3897, '41': 72, 'average': 472, 'opinion': 3147, 'tucker': 4654, 'note': 3064, 'tests': 4494, 'launch': 2583, 'flew': 1829, '28': 57, 'reiterated': 3725, 'resolved': 3809, 'stability': 4244, 'map': 2774, 'economic': 1489, 'disputed': 1387, 'islands': 2413, 'northern': 3062, 'soviet': 4204, 'forced': 1856, 'flee': 1827, 'treaty': 4630, 'dispute': 1386, 'peskov': 3317, 'building': 692, 'mutual': 2973, 'promote': 3509, 'keeping': 2507, 'red': 3682, 'tape': 4436, 'harder': 2082, 'aftermath': 222, 'contractors': 1066, 'gulf': 2048, 'coast': 918, 'temporarily': 4471, 'employers': 1549, 'hiring': 2155, 'authorized': 467, '45': 76, 'suspension': 4407, 'identification': 2233, 'documents': 1410, 'citizenship': 876, 'employment': 1550, 'requirements': 3790, 'easier': 1482, 'folks': 1844, 'southeast': 4200, 'choosing': 856, 'base': 519, 'illegally': 2249, 'hurt': 2225, 'revenue': 3844, 'providing': 3548, 'temporary': 4472, 'congressman': 1021, 'houston': 2206, 'driving': 1458, 'tens': 4476, 'customs': 1184, 'ice': 2229, 'permanent': 3304, 'residence': 3798, 'cards': 756, 'construction': 1045, 'moved': 2947, 'industries': 2311, '2006': 31, 'institution': 2342, 'study': 4335, 'wage': 4820, 'worry': 4957, 'lopez': 2707, 'florida': 1836, 'hire': 2153, 'crew': 1149, 'planning': 3348, 'negotiations': 3015, 'turkish': 4658, 'academic': 128, 'detained': 1322, 'kurdistan': 2552, 'militant': 2869, 'suspects': 4404, 'lawmaker': 2589, 'main': 2744, 'ankara': 321, 'am': 292, 'gmt': 1979, 'turkey': 4657, 'kurds': 2553, 'hands': 2073, 'arrest': 400, 'allegations': 270, 'propaganda': 3515, 'exposed': 1683, 'organizers': 3171, 'disrupt': 1389, 'happening': 2077, 'joe': 2460, 'undercover': 4693, 'biased': 579, 'bias': 578, 'trusted': 4649, 'proves': 3543, 'ends': 1562, 'winning': 4925, 'listen': 2675, 'saudi': 3946, 'arabia': 383, 'jihadist': 2453, 'africa': 219, 'commitments': 959, 'unrest': 4723, 'crossed': 1165, 'qaeda': 3581, 'civilian': 879, 'targets': 4442, 'militants': 2870, 'sunni': 4374, 'rival': 3872, 'shi': 4088, 'ite': 2424, 'iran': 2399, 'donors': 1429, 'vocal': 4808, 'pressed': 3443, 'concrete': 997, 'macron': 2736, 'crown': 1169, 'prince': 3461, 'mohammed': 2917, 'bin': 594, 'salman': 3936, 'contribute': 1070, 'riyadh': 3875, 'necessary': 3006, 'shut': 4114, 'prompted': 3512, 'receive': 3663, 'communication': 965, 'foundation': 1877, 'light': 2659, 'staffers': 4248, 'intentionally': 2361, 'solid': 4172, 'conway': 1087, 'kellyanne': 2511, 'transparency': 4617, 'photo': 3327, 'justices': 2499, 'corporate': 1101, 'thomas': 4525, 'word': 4946, 'verdict': 4765, 'openly': 3141, 'literally': 2678, 'tied': 4550, 'hitting': 2165, 'drawing': 1444, 'arguments': 392, 'artist': 409, 'deciding': 1235, '48': 79, 'unfit': 4702, 'keeps': 2508, 'hole': 2171, 'grounds': 2030, 'capacity': 748, 'tip': 4560, 'string': 4320, 'incidents': 2281, 'narrative': 2982, 'mind': 2877, 'covered': 1135, 'sorry': 4192, 'victim': 4775, 'meanwhile': 2821, 'bully': 696, 'favorite': 1748, 'glenn': 1976, 'beck': 539, 'anchor': 311, 'resident': 3799, 'various': 4756, 'hatred': 2099, 'rant': 3624, 'personally': 3313, 'sidelines': 4118, 'summit': 4371, 'donor': 1428, 'meant': 2820, 'regard': 3703, 'announce': 324, 'libya': 2647, 'forcing': 1858, 'handle': 2070, 'especially': 1604, 'represent': 3774, 'neighboring': 3021, 'houthi': 2207, 'yemen': 4979, 'analyst': 308, 'richard': 3856, 'powers': 3418, 'substantial': 4346, 'principal': 3462, 'gain': 1931, 'headquarters': 2111, 'le': 2597, 'contrary': 1068, 'universal': 4712, 'contested': 1057, 'describes': 1303, 'paris': 3238, 'backing': 488, 'interests': 2365, 'cia': 867, 'pompeo': 3387, 'raid': 3609, 'picked': 3333, 'clock': 904, 'standard': 4256, 'tehran': 4463, 'revealing': 3841, 'iranian': 2400, 'testified': 4490, 'training': 4611, 'hezbollah': 2138, 'lebanon': 2617, 'haven': 2102, 'kept': 2516, 'lock': 2695, 'suspicious': 4409, 'dealing': 1219, 'standing': 4258, 'hostage': 2194, 'journal': 2476, 'plane': 3344, 'brotherhood': 681, 'files': 1792, 'contained': 1053, 'knowledge': 2542, 'el': 1512, 'arrested': 401, 'responsibility': 3819, 'suicide': 4367, 'mosque': 2937, 'afghan': 216, 'blast': 607, 'alert': 260, 'reince': 3724, 'priebus': 3456, 'kelly': 2510, 'probe': 3477, 'lying': 2732, 'totally': 4586, 'awesome': 480, 'creating': 1143, 'transgender': 4615, 'direction': 1358, 'entirely': 1583, 'mad': 2737, 'parent': 3235, 'baby': 483, 'decisions': 1237, 'frustrated': 1908, 'rein': 3723, 'pool': 3388, 'nazi': 2999, 'hitler': 2164, 'lived': 2682, 'hiding': 2141, 'clean': 891, 'destroyed': 1316, 'buildings': 693, 'comparison': 973, 'sea': 3987, 'positive': 3402, 'traveling': 4624, 'removing': 3754, 'relief': 3738, 'flat': 1825, 'uncertainty': 4687, 'visitors': 4804, 'analysis': 307, 'confidence': 1008, 'advanced': 195, '65': 96, 'discussions': 1378, 'counterpart': 1120, 'commerce': 953, 'ross': 3899, 'confusion': 1018, 'treatment': 4629, 'reviewing': 3849, 'billionaire': 591, 'married': 2787, 'proven': 3542, 'celebrity': 796, 'discussing': 1376, 'scared': 3961, 'collection': 930, 'sexually': 4072, 'younger': 4986, 'sister': 4139, 'grace': 2007, 'passage': 3259, 'essentially': 1606, 'outlet': 3186, 'bed': 543, 'perhaps': 3302, 'disturbing': 1394, 'occurred': 3098, 'reputation': 3783, 'caught': 784, 'hosted': 2195, 'misleading': 2892, 'editing': 1496, 'technical': 4459, 'mary': 2789, 'pleaded': 3360, 'sentenced': 4036, 'plus': 3366, 'operatives': 3146, 'rallies': 3616, 'committing': 963, 'cares': 761, 'charged': 833, 'journalist': 2478, 'associated': 433, 'donations': 1426, 'project': 3502, 'interested': 2363, 'hidden': 2139, 'cameras': 727, 'notice': 3068, 'letting': 2635, 'tomorrow': 4573, 'leaked': 2606, 'footage': 1852, 'usa': 4739, 'happens': 2078, 'trend': 4632, 'directed': 1357, 'brian': 661, 'water': 4854, 'puts': 3578, 'anybody': 342, 'insisted': 2334, 'cooper': 1090, 'minute': 2889, 'nice': 3039, 'nasty': 2984, 'towards': 4593, 'feelings': 1766, 'taught': 4445, 'desperate': 1312, 'finished': 1809, 'deadline': 1216, 'cost': 1109, 'constitution': 1043, 'adopted': 190, 'turnbull': 4660, 'crucial': 1170, 'deputy': 1300, 'therefore': 4512, 'disclose': 1367, 'details': 1321, 'doubt': 1434, 'doubts': 1435, 'easily': 1483, 'pursue': 3571, 'obvious': 3093, 'premiums': 3430, 'contact': 1049, 'explain': 1673, 'improved': 2274, 'saving': 3949, 'bond': 630, 'securities': 4005, 'condition': 1001, 'per': 3292, 'testing': 4493, 'secrets': 3999, 'tour': 4590, 'grab': 2006, 'payment': 3276, 'represents': 3779, 'bail': 494, 'custody': 1182, 'prosecutor': 3524, 'reads': 3646, 'trial': 4633, 'burden': 700, 'quite': 3596, 'screengrab': 3981, 'lord': 2708, 'arrived': 404, 'greece': 2023, 'reaching': 3641, 'migration': 2865, 'arrivals': 403, 'numerous': 3080, 'threaten': 4533, 'surrounding': 4397, 'de': 1214, 'hotels': 2200, 'fell': 1770, 'visiting': 4803, 'shocking': 4096, 'capture': 751, 'museum': 2968, 'shouting': 4108, 'witness': 4936, 'ten': 4473, 'showing': 4111, 'officers': 3114, 'youth': 4989, 'raped': 3626, 'tourism': 4591, 'tower': 4594, 'check': 840, 'harry': 2087, 'asian': 413, 'lay': 2596, 'accountability': 138, 'reject': 3726, 'dealings': 1220, 'abroad': 121, 'drug': 1464, 'topics': 4583, 'kim': 2529, 'chicago': 844, 'airport': 252, 'dressed': 1449, 'scenes': 3965, 'backers': 486, 'vermont': 4766, 'followed': 1846, 'journalists': 2479, 'sudden': 4354, 'events': 1627, 'virtually': 4797, 'fundraising': 1921, 'dallas': 1194, 'initial': 2321, 'mention': 2843, 'carolina': 764, 'campaigning': 731, 'louis': 2719, 'missouri': 2900, 'directly': 1359, 'aggression': 233, 'winner': 4924, 'delegates': 1266, 'candidates': 743, 'marco': 2777, 'rubio': 3910, 'credible': 1146, 'kansas': 2504, 'demonstrators': 1285, 'seconds': 3996, 'slightly': 4154, '37': 67, 'display': 1385, 'unusual': 4725, 'murphy': 2966, 'sap': 3942, 'independently': 2299, 'warner': 4840, 'invitation': 2392, 'invited': 2393, 'testify': 4491, 'india': 2300, 'indian': 2301, 'indicate': 2303, 'advisory': 204, 'markets': 2785, 'reminded': 3749, 'appropriate': 376, 'quoted': 3600, 'active': 159, 'limited': 2664, 'context': 1059, 'steven': 4289, 'collective': 931, 'disappointed': 1364, 'authority': 466, 'theory': 4510, 'treasury': 4626, 'entities': 1584, 'commitment': 958, 'measures': 2823, 'reached': 3640, 'zimbabwe': 4995, 'proper': 3516, 'choice': 853, 'commander': 950, 'atlanta': 439, 'somewhat': 4185, 'recall': 3661, 'serve': 4049, 'graham': 2010, 'flynn': 1840, 'pence': 3285, 'conversations': 1082, 'maduro': 2740, 'rating': 3635, 'percentage': 3295, 'rounds': 3903, '52': 84, 'assembly': 426, 'colombia': 935, 'temer': 4470, 'brazil': 653, 'popularity': 3392, 'decline': 1242, 'resulted': 3827, 'inflation': 2315, 'model': 2910, 'negative': 3011, 'survey': 4399, 'error': 1600, 'lieutenant': 2653, 'mcmaster': 2815, 'tries': 4635, 'fate': 1742, 'loyal': 2727, 'afraid': 218, 'noting': 3070, 'harsh': 2088, 'identified': 2234, 'articles': 408, 'anger': 317, 'possibly': 3406, 'command': 949, 'jared': 2439, 'kushner': 2555, 'expanding': 1659, 'likes': 2662, 'jewish': 2451, 'pro': 3475, 'suggestion': 4365, 'tone': 4574, 'struck': 4326, 'shift': 4089, 'detailed': 1320, 'aggressive': 234, 'spirit': 4226, 'weapon': 4864, 'throwing': 4543, 'revolutionary': 3851, 'corps': 1104, 'agreements': 239, 'withdraw': 4932, 'accord': 135, 'canada': 736, 'hassan': 2093, 'rouhani': 3901, 'stronger': 4323, 'compliance': 983, 'watchdog': 4851, 'implemented': 2264, 'expressed': 1686, 'pull': 3560, '60': 91, 'lifted': 2657, 'pact': 3218, 'violation': 4791, 'apart': 349, 'trigger': 4636, 'expire': 1672, 'blasted': 608, 'negotiated': 3013, 'predecessor': 3427, 'terrorists': 4487, 'player': 3355, 'jim': 2455, 'mattis': 2804, 'wolf': 4939, 'clothing': 912, 'miss': 2893, 'documentary': 1408, 'audio': 457, 'recording': 3677, 'virginia': 4796, 'asking': 417, 'raw': 3637, 'silence': 4128, 'forth': 1871, 'explains': 1676, 'itself': 2427, 'deaths': 1224, 'follows': 1849, 'removed': 3753, 'quietly': 3594, 'judgment': 2486, 'encourage': 1553, 'egypt': 1508, 'egyptian': 1509, 'stores': 4301, 'doors': 1431, 'clothes': 911, 'chaos': 829, 'alabama': 255, 'treat': 4627, 'season': 3990, 'female': 1774, 'severe': 4068, 'snap': 4160, 'goods': 1993, 'centers': 799, 'sun': 4372, 'car': 753, 'store': 4300, 'joseph': 2474, 'watson': 4856, 'consumer': 1047, 'disgusting': 1380, 'mail': 2743, 'appearing': 362, 'destroying': 1317, 'radical': 3607, 'screaming': 3979, 'managed': 2763, 'modi': 2913, 'bodies': 623, 'pulse': 3563, 'nightclub': 3042, 'blaming': 605, 'refuses': 3701, 'bernardino': 570, 'horrific': 2190, 'replied': 3766, 'launching': 2585, 'session': 4056, 'supremacists': 4387, 'non': 3055, 'extremists': 1700, 'sheriff': 4087, 'departments': 1293, 'nationwide': 2991, '39': 69, 'inspired': 2337, 'sounds': 4196, 'quick': 3591, 'shooter': 4098, 'brown': 684, 'skin': 4150, 'omar': 3128, 'mateen': 2797, 'supremacist': 4386, 'gingrich': 1967, 'bible': 580, 'discrimination': 1372, 'screen': 3980, 'cops': 1095, 'thugs': 4545, 'plot': 3365, 'deadly': 1217, 'employed': 1546, 'vehicles': 4762, '200': 24, 'surveillance': 4398, 'missing': 2897, 'stolen': 4294, 'firearms': 1811, 'gov': 1999, 'defence': 1252, 'gunman': 2050, 'methods': 2851, 'outrage': 3189, 'hundreds': 2221, 'died': 1344, 'liberties': 2645, 'amnesty': 302, 'globe': 1978, 'ask': 415, 'uranium': 4733, 'veterans': 4770, 'giant': 1965, 'era': 1597, 'cold': 924, 'naval': 2997, 'photos': 3328, 'jets': 2450, 'veteran': 4769, 'identify': 2235, 'recognized': 3673, 'ship': 4090, 'apology': 353, 'acknowledge': 149, 'visas': 4799, 'negotiators': 3017, 'vetting': 4772, 'begun': 550, 'application': 366, 'abandon': 109, 'moral': 2931, 'approve': 378, 'diplomats': 1355, 'concern': 990, 'screening': 3982, 'successor': 4351, 'strategic': 4307, 'stayed': 4278, 'fueled': 1911, 'attend': 449, 'conversation': 1081, 'baker': 495, 'reagan': 3648, 'rice': 3854, 'susan': 4401, 'qatar': 3582, 'contracts': 1067, 'fighter': 1785, 'planes': 3345, 'operate': 3142, 'palestinians': 3227, 'increasing': 2291, 'opposing': 3156, 'maryland': 2790, 'hawaii': 2104, 'district': 1392, 'discriminatory': 1373, 'previous': 3451, 'rulings': 3915, 'appeal': 356, 'complaint': 977, 'suit': 4368, 'relatives': 3733, 'replaced': 3763, 'seattle': 3993, 'violated': 4789, 'confident': 1009, 'circuit': 869, 'blocking': 614, 'appealed': 357, 'sentiment': 4038, '46': 77, '600': 92, 'sexist': 4070, 'square': 4242, 'tear': 4457, '800': 104, 'justin': 2501, 'sullivan': 4369, 'aside': 414, 'aim': 246, 'david': 1209, 'dignity': 1350, 'humanity': 2218, 'proceed': 3482, 'increasingly': 2292, 'reducing': 3685, 'diversity': 1396, 'manager': 2765, 'yourself': 4988, 'demanded': 1275, 'skills': 4149, 'ashamed': 411, 'preventing': 3450, 'trained': 4610, 'located': 2692, 'fail': 1716, 'target': 4439, 'doctor': 1405, 'kkk': 2536, 'outspoken': 3194, 'minorities': 2887, 'bunch': 698, 'color': 936, 'card': 755, 'racists': 3606, 'constantly': 1041, 'perspective': 3316, 'hates': 2098, 'blacks': 602, 'supremacy': 4388, 'slavery': 4153, 'boss': 638, 'appointed': 371, 'feed': 1763, 'colleagues': 928, 'setting': 4061, 'task': 4444, 'lists': 2677, 'participants': 3244, 'fort': 1870, '2009': 34, '44': 75, 'doug': 1436, 'charity': 836, 'lebanese': 2616, 'scheme': 3968, 'founder': 1879, '49': 80, 'noticed': 3069, 'pages': 3220, 'handled': 2071, 'carson': 770, 'anyway': 346, 'picking': 3334, 'explanation': 1677, 'felt': 1773, 'rumors': 3916, 'dropped': 1461, 'caucus': 783, 'acceptable': 130, 'flight': 1831, 'headed': 2107, 'hampshire': 2066, 'opponents': 3150, 'developing': 1333, 'games': 1936, 'suspended': 4406, 'hopefully': 2186, 'cuomo': 1177, 'interviewed': 2375, 'match': 2795, 'opening': 3140, 'calm': 723, 'hook': 2182, 'embarrassed': 1533, 'turns': 4664, 'phony': 3326, 'subsidies': 4344, '1994': 19, 'passing': 3263, 'nafta': 2977, 'competition': 974, 'fed': 1760, 'introduced': 2378, 'worker': 4950, 'gate': 1942, 'plant': 3350, '34': 64, 'communities': 968, 'manufacturing': 2772, 'collected': 929, 'fewer': 1779, 'bars': 518, 'minimum': 2880, 'ms': 2955, 'regret': 3714, 'effects': 1505, 'damaged': 1196, 'tragedy': 4606, 'eye': 1702, 'text': 4496, 'illinois': 2250, 'legislature': 2628, 'breaking': 656, 'quiet': 3593, 'jail': 2431, 'punishment': 3567, '1998': 21, 'affair': 209, '1999': 22, 'widely': 4907, 'orders': 3165, 'tenure': 4479, 'advances': 196, 'acted': 155, 'favors': 1749, 'duke': 1467, 'flickr': 1830, 'taiwan': 4425, 'considers': 1036, 'province': 3549, 'bound': 643, 'upset': 4732, 'moves': 2950, 'elaborate': 1513, 'tsai': 4653, 'drills': 1452, 'exercises': 1651, 'hey': 2137, 'planet': 3346, 'lots': 2717, 'actively': 160, 'publication': 3555, 'jong': 2471, 'basic': 523, 'takes': 4428, 'brutal': 687, 'outgoing': 3185, 'chose': 857, 'signature': 4122, 'drone': 1459, 'locked': 2696, 'unveiled': 4726, 'presumptive': 3446, 'plea': 3359, 'register': 3711, '63': 94, 'referendum': 3688, '54': 86, 'negotiating': 3014, 'contain': 1052, 'reading': 3645, 'prosecution': 3523, 'witnesses': 4938, 'anymore': 343, 'televised': 4465, 'possession': 3403, 'nsa': 3076, 'kerry': 2517, 'pursuing': 3572, 'diplomacy': 1352, 'discussion': 1377, 'moments': 2920, 'presented': 3436, 'opposite': 3157, 'stood': 4296, 'description': 1305, 'fundamental': 1917, 'insult': 2344, 'financing': 1803, 'quote': 3599, 'careful': 759, 'thus': 4547, 'incredibly': 2294, 'rarely': 3631, 'aleppo': 259, 'deported': 1299, 'supposedly': 4385, 'meaning': 2818, 'maintaining': 2751, 'soldier': 4170, 'threatens': 4536, 'dog': 1414, 'neighbor': 3018, 'rt': 3909, 'uncomfortable': 4689, 'players': 3356, 'client': 898, 'geneva': 1955, 'wars': 4844, 'aircraft': 250, 'suspend': 4405, 'obligation': 3087, 'rebels': 3659, 'rebel': 3658, 'consistently': 1038, 'hospitals': 2192, 'strikes': 4318, 'exercise': 1650, 'gang': 1937, 'patrol': 3271, 'transportation': 4620, 'keith': 2509, 'recorded': 3676, 'tragic': 4607, 'accountable': 139, 'surely': 4391, 'cell': 797, 'ok': 3123, 'resulting': 3828, 'comply': 985, 'detention': 1324, 'mouth': 2945, 'notes': 3066, 'camera': 726, 'reasonable': 3656, 'jury': 2496, 'wide': 4906, 'matt': 2800, 'serial': 4045, 'weinstein': 4879, 'actors': 166, 'mogul': 2914, 'values': 4753, 'shame': 4075, 'actress': 167, 'carefully': 760, 'stars': 4262, 'necessarily': 3005, 'location': 2693, 'except': 1642, 'beautiful': 536, 'consumers': 1048, 'disease': 1379, 'subscribe': 4342, 'patients': 3269, 'profit': 3495, '57': 89, 'hospital': 2191, 'substance': 4345, 'overwhelming': 3205, 'burned': 702, 'slave': 4152, 'enemies': 1563, 'sons': 4189, 'universities': 4713, 'implications': 2265, 'requirement': 3789, 'comfortable': 947, 'inspector': 2336, 'inquiry': 2329, 'draft': 1441, 'supported': 4379, 'laugh': 2581, 'op': 3137, 'spencer': 4221, 'distance': 1391, 'grand': 2011, 'crash': 1139, 'shoot': 4097, 'whoever': 4901, 'sharia': 4080, 'overnight': 3200, 'singapore': 4135, 'mob': 2907, 'deny': 1290, 'murray': 2967, 'anniversary': 323, 'canceled': 739, 'sense': 4032, 'alien': 264, 'concept': 989, 'letters': 2634, 'blood': 616, 'flying': 1839, 'narrow': 2983, 'sen': 4025, 'submitted': 4341, 'marijuana': 2780, 'joke': 2467, 'dc': 1213, '51': 83, 'carrying': 768, 'category': 781, 'accepted': 131, 'brothers': 682, 'dropping': 1462, 'www': 4973, 'initiative': 2323, 'maxine': 2806, 'waters': 4855, 'resist': 3804, 'neighbors': 3022, 'tony': 4576, 'realize': 3652, 'babies': 482, 'zika': 4994, 'birth': 596, 'expenses': 1666, 'rape': 3625, 'disagree': 1363, 'lifetime': 2655, 'monitoring': 2926, 'chemical': 843, 'facility': 1709, 'scientific': 3975, 'centre': 801, 'gas': 1941, 'israeli': 2417, 'protesting': 3537, 'departure': 1294, 'traveled': 4622, 'striking': 4319, '42': 73, 'bombs': 629, 'civilians': 880, 'enforce': 1566, 'jet': 2449, 'khan': 2520, 'falls': 1728, 'presence': 3434, 'sufficient': 4361, 'perform': 3299, 'taliban': 4430, 'sanctuary': 3940, 'lowest': 2726, 'enemy': 1564, '43': 74, 'districts': 1393, 'interior': 2368, 'unnamed': 4719, 'fundraiser': 1920, 'arab': 382, 'boycott': 646, 'ahmed': 242, 'envoy': 1589, 'row': 3905, 'negotiate': 3012, 'attending': 451, 'resort': 3810, 'cheap': 839, 'factions': 1712, 'afternoon': 223, 'balance': 496, 'hostile': 2196, 'champion': 819, 'timing': 4558, 'disastrous': 1366, 'titled': 4563, 'charitable': 835, 'appearance': 360, 'focusing': 1843, 'practices': 3420, '29': 58, 'slammed': 4151, 'extent': 1693, 'sentences': 4037, 'kenya': 2514, 'vital': 4806, 'cambodia': 724, 'jailed': 2432, 'mainland': 2746, 'procedure': 3480, 'origin': 3173, 'explosion': 1678, 'losses': 2714, 'elderly': 1514, 'immunity': 2259, 'duties': 1471, 'judges': 2485, 'miami': 2855, 'resolve': 3808, 'indiana': 2302, 'mexican': 2852, 'goldman': 1988, 'boston': 639, 'consulting': 1046, 'reminder': 3750, 'libyan': 2648, 'trafficking': 4605, 'train': 4609, 'italy': 2423, 'fix': 1820, 'witnessed': 4937, 'hussein': 2227, 'abuses': 127, 'italian': 2422, 'migrant': 2863, '31': 61, 'phones': 3325, 'shortly': 4103, 'fairly': 1722, 'nearby': 3003, 'tank': 4435, 'wilson': 4919, 'blind': 609, 'polling': 3385, 'orange': 3162, 'confrontation': 1016, 'assaulted': 425, 'blm': 610, 'georgia': 1958, 'fashion': 1740, 'contributor': 1074, 'click': 897, 'herself': 2136, 'whites': 4899, 'equality': 1593, 'spotlight': 4237, 'dakota': 1193, 'proposals': 3520, 'route': 3904, 'concerning': 992, 'transactions': 4613, 'risks': 3871, 'recalled': 3662, 'quarter': 3585, 'sovereignty': 4203, 'prosperity': 3528, 'roots': 3896, 'thin': 4516, 'demonstrated': 1283, 'super': 4375, 'plays': 3358, 'perceived': 3293, 'apologize': 351, 'collapsed': 927, 'generation': 1953, 'recommendations': 3674, 'apple': 365, 'pyongyang': 3580, 'song': 4188, 'signal': 4121, 'seoul': 4039, 'kinds': 2531, 'historically': 2161, 'strength': 4313, 'frustration': 1909, 'participate': 3245, 'ignorance': 2241, 'laid': 2563, 'staged': 4250, 'eyes': 1703, 'participating': 3246, 'petition': 3319, 'venture': 4764, 'timeline': 4556, 'membership': 2837, 'student': 4332, 'realized': 3653, 'confronted': 1017, 'stepping': 4286, 'racial': 3603, 'intervention': 2373, 'drinking': 1453, 'correctness': 1106, 'reflects': 3692, 'variety': 4755, 'material': 2798, 'hacking': 2057, 'mohammad': 2916, 'guards': 2040, 'pictures': 3336, 'lied': 2651, 'deportation': 1298, 'complained': 976, 'canadian': 737, 'fence': 1775, 'runs': 3920, 'websites': 4871, 'filessupport': 1793, 'peninsula': 3287, 'sixth': 4146, 'round': 3902, 'marked': 2783, 'fifth': 1783, 'chamber': 817, 'echoed': 1488, 'moon': 2929, 'ann': 322, 'coulter': 1115, 'career': 758, 'male': 2758, 'latinos': 2580, 'scientists': 3976, 'joy': 2480, 'reid': 3721, 'invasion': 2379, 'wanting': 4835, 'swamp': 4411, 'edt': 1499, 'ourselves': 3181, 'schiff': 3969, 'ly': 2731, 'purpose': 3569, 'speed': 4220, 'feet': 1769, 'wonder': 4943, 'escalation': 1602, 'copy': 1096, 'zones': 4997, 'theories': 4509, 'briefings': 666, 'thailand': 4497, 'readers': 3644, 'somodevilla': 4186, 'asks': 418, 'warrant': 4842, 'catch': 780, 'surge': 4392, 'ford': 1859, 'auto': 468, 'quality': 3584, 'rate': 3632, 'returning': 3836, 'passenger': 3261, 'cuba': 1173, 'havana': 2100, 'cuban': 1174, 'partial': 3243, 'handling': 2072, 'castro': 776, 'clarify': 887, 'twenty': 4670, 'reduced': 3684, 'engage': 1568, 'lobbying': 2689, 'frequent': 1898, 'sponsor': 4233, 'counts': 1125, 'airlines': 251, 'flights': 1832, 'fees': 1768, 'chambers': 818, 'portion': 3396, 'lee': 2619, 'maine': 2745, 'collins': 933, 'amendments': 297, 'arizona': 393, 'announcing': 327, 'flake': 1824, 'mississippi': 2899, 'tie': 4549, 'similarly': 4131, 'outraged': 3190, 'neil': 3023, '68': 98, 'grassroots': 2017, 'greg': 2026, 'huffington': 2214, '47': 78, 'wins': 4926, 'rapists': 3628, 'offering': 3110, 'criticizing': 1161, 'packed': 3217, 'ranging': 3621, 'constituents': 1042, 'recognize': 3672, 'fdp': 1752, 'greens': 2025, 'euro': 1619, 'integration': 2351, 'respected': 3813, 'currency': 1179, 'recession': 3669, 'occupy': 3097, 'outlets': 3187, 'elite': 1526, 'rnc': 3876, 'feature': 1756, 'vatican': 4758, 'naturally': 2995, 'agriculture': 240, 'pair': 3223, 'catholic': 782, 'lengthy': 2630, 'marriage': 2786, 'scandals': 3958, 'prospects': 3527, 'willingness': 4918, 'briefed': 664, 'mitch': 2902, 'mcconnell': 2814, 'tight': 4552, 'removal': 3751, 'age': 227, 'avenue': 471, 'sports': 4235, 'closing': 910, 'dedicated': 1244, 'stating': 4272, 'aspects': 419, 'preserve': 3437, 'nunes': 3081, 'testimony': 4492, 'penalties': 3283, 'youtu': 4990, 'papers': 3232, 'atlantic': 440, 'voices': 4811, 'subsequently': 4343, 'walked': 4826, 'candidacy': 741, 'pennsylvania': 3288, 'ensuring': 1577, 'flow': 1837, 'aug': 459, 'administrator': 184, 'withdrawal': 4933, 'rosenstein': 3898, 'tools': 4580, 'christie': 862, 'nominate': 3049, 'chain': 809, 'appoint': 370, 'counterparts': 1121, 'warming': 4838, 'achieve': 147, 'tradition': 4601, 'emerging': 1540, 'mccabe': 2811, 'mcauliffe': 2810, 'donated': 1424, 'jill': 2454, 'offices': 3115, 'accurate': 141, 'shit': 4093, '1993': 18, 'staffer': 4247, 'understood': 4698, 'austria': 463, 'shares': 4079, 'fascist': 1739, 'core': 1097, 'maximum': 2805, 'junior': 2495, 'longtime': 2702, 'engaging': 1571, 'inappropriate': 2277, 'stable': 4245, 'intense': 2358, 'producer': 3487, 'alaska': 258, 'buzzfeed': 713, 'activist': 161, 'charlottesville': 838, 'soros': 4191, 'antifa': 338, 'threw': 4539, 'responses': 3818, 'content': 1054, 'pulling': 3562, 'stations': 4274, 'indonesia': 2309, 'tokyo': 4569, 'hong': 2180, 'kong': 2546, 'educated': 1500, 'prison': 3468, 'cocaine': 919, 'personality': 3312, 'killings': 2528, 'torture': 4584, 'mobile': 2908, 'graphic': 2015, 'sentence': 4035, 'lynch': 2733, 'box': 644, 'tremendous': 4631, 'parenthood': 3236, 'ag': 224, 'loretta': 2709, 'ordinary': 3166, 'extended': 1690, 'perez': 3296, 'choices': 854, 'stunning': 4337, 'industrial': 2310, 'mnuchin': 2906, 'childhood': 848, 'leaning': 2608, 'prefer': 3429, 'organizing': 3172, 'ignorant': 2242, 'sec': 3994, 'kentucky': 2513, 'koch': 2545, 'suggests': 4366, 'gorsuch': 1996, 'davis': 1210, 'advocacy': 205, 'colorado': 937, 'size': 4147, 'contrast': 1069, '120': 6, 'mixed': 2904, 'devos': 1337, 'loves': 2723, 'minds': 2878, 'answered': 333, 'baltimore': 502, 'reckless': 3670, 'motivated': 2943, 'recover': 3680, 'riots': 3867, 'larry': 2572, 'dozens': 1439, 'headlines': 2110, 'kicked': 2521, 'mexicans': 2853, '58': 90, 'hopeful': 2185, 'dutch': 1469, 'horrible': 2189, '69': 99, 'pray': 3423, 'understands': 4697, 'structure': 4327, 'occupied': 3096, 'strange': 4306, 'rolling': 3890, 'suspicion': 4408, 'liberation': 2644, 'crackdown': 1138, 'graft': 2009, 'chiefs': 846, 'delegation': 1267, 'mar': 2775, 'lago': 2562, 'palm': 3229, 'beach': 532, 'ap': 348, 'nfl': 3038, 'field': 1780, 'mile': 2867, 'kurz': 2554, 'courage': 1129, 'alexander': 262, 'fpo': 1885, 'haiti': 2060, 'traditionally': 4603, 'ball': 498, 'viral': 4795, 'lone': 2698, 'escape': 1603, 'bbc': 530, '56': 88, 'loved': 2722, 'apologized': 352, 'instagram': 2338, 'plenty': 3364, 'transport': 4619, 'km': 2538, 'passengers': 3262, 'extensive': 1692, 'carrier': 766, 'shutdown': 4115, 'rush': 3922, 'proved': 3541, 'insurers': 2348, 'findings': 1806, 'bomb': 627, 'heritage': 2134, 'endorsement': 1561, 'latino': 2579, 'indication': 2305, 'formerly': 1868, 'demonstrate': 1282, 'telephone': 4464, 'penalty': 3284, 'gross': 2028, 'deemed': 1246, 'jake': 2433, 'unconstitutional': 4690, 'expression': 1688, 'permits': 3307, 'singer': 4136, 'jay': 2441, 'perry': 3308, 'governors': 2004, 'reduction': 3686, 'wealth': 4862, 'corporations': 1103, 'ceiling': 792, 'recess': 3668, 'extraordinary': 1695, 'supply': 4377, 'contacted': 1050, 'supplies': 4376, 'solutions': 4175, 'lewis': 2639, 'nra': 3075, 'confront': 1015, 'cop': 1094, 'breach': 654, 'contract': 1064, 'sachs': 3927, 'trucks': 4643, 'heading': 2108, 'welfare': 4882, 'aliens': 265, 'obtain': 3091, 'village': 4786, 'sudan': 4353, 'oregon': 3167, 'pocket': 3368, 'militia': 2872, 'chelsea': 842, 'purposes': 3570, 'donation': 1425, 'participation': 3247, 'jon': 2468, 'guardian': 2039, 'sending': 4030, 'exports': 1681, 'economics': 1490, 'tmsnrt': 4564, 'rs': 3908, 'hun': 2219, 'violating': 4790, 'chapter': 830, 'genocide': 1956, 'aligned': 266, 'coup': 1127, 'solve': 4176, 'pena': 3282, 'nieto': 3040, 'trudeau': 4644, 'farm': 1737, 'pain': 3222, 'tariffs': 4443, 'criminals': 1154, 'ron': 3892, 'older': 3127, 'surprised': 4394, 'title': 4562, 'fresh': 1900, 'klan': 2537, 'biden': 582, 'sdf': 3986, 'kurdish': 2551, 'delta': 1273, 'units': 4710, 'mosul': 2940, 'raqqa': 3629, 'roles': 3888, 'mugabe': 2959, 'mnangagwa': 2905, 'triggered': 4637, 'unpopular': 4721, 'backlash': 489, 'dissent': 1390, 'morgan': 2933, 'favored': 1747, 'motive': 2944, 'yates': 4975, 'kislyak': 2535, 'memo': 2838, 'primarily': 3458, 'manufacturers': 2771, 'legislators': 2627, 'chairs': 812, 'adult': 192, 'accusation': 142, 'soil': 4168, 'strengthen': 4314, 'administrative': 183, 'liberty': 2646, 'elements': 1523, 'spy': 4241, 'flint': 1833, 'gary': 1940, 'establish': 1608, 'thousand': 4530, 'royal': 3907, 'reforms': 3694, 'lifting': 2658, 'absolute': 123, 'drove': 1463, 'license': 2649, 'portland': 3397, 'window': 4922, 'autonomous': 469, 'iraqi': 2402, 'bonds': 631, '2004': 29, 'quo': 3597, 'urban': 4734, 'notion': 3071, 'occupation': 3095, 'unlike': 4717, 'tayyip': 4451, 'holy': 2174, 'condemn': 998, 'resolutions': 3807, 'proceedings': 3483, 'laundering': 2586, 'erdogan': 1598, 'permission': 3305, 'suffer': 4358, '2002': 27, 'jeb': 2443, 'contributed': 1071, 'equity': 1596, 'swing': 4415, 'oversight': 3203, 'select': 4021, 'phoenix': 3323, 'constant': 1040, 'hamas': 2065, 'affiliated': 213, 'deport': 1297, 'locations': 2694, 'registration': 3713, 'machines': 2735, 'definition': 1260, 'frank': 1890, 'regulation': 3717, 'investigative': 2386, 'dodd': 1411, 'gulen': 2047, 'walker': 4827, 'gains': 1934, 'backs': 490, 'wages': 4821, 'overwhelmingly': 3206, 'thoughts': 4529, 'idiot': 2239, 'brings': 671, 'belgium': 556, 'counties': 1122, 'applications': 367, 'boat': 621, 'shelter': 4086, 'costly': 1110, 'puigdemont': 3559, 'madrid': 2739, 'soft': 4166, 'reserve': 3796, 'achieved': 148, 'asset': 428, 'guests': 2043, 'objective': 3086, 'warren': 4843, 'dominated': 1420, 'pen': 3281, 'strongest': 4324, 'cohen': 921, 'emirates': 1541, 'staying': 4279, 'dress': 1448, 'wear': 4866, 'infamous': 2314, 'jesus': 2448, 'waste': 4849, 'manafort': 2761, 'nominees': 3054, 'offense': 3106, 'rick': 3857, 'scarborough': 3960, 'jumped': 2492, 'casualties': 777, 'abdullah': 112, 'finish': 1808, 'detainees': 1323, 'oversees': 3202, 'doj': 1416, 'survive': 4400, 'tool': 4579, 'epa': 1590, 'challenged': 814, 'convicted': 1083, 'francis': 1888, 'replacing': 3765, 'earnest': 1479, 'enacted': 1552, '36': 66, 'shape': 4076, 'sue': 4356, 'lewandowski': 2638, 'machine': 2734, 'digital': 1349, 'voiced': 4810, 'journalism': 2477, 'veto': 4771, 'eve': 1623, 'seth': 4059, 'engaged': 1569, 'ii': 2246, 'widespread': 4909, 'privilege': 3473, 'returns': 3837, '2019': 45, 'teen': 4462, 'mandatory': 2768, 'expense': 1665, 'wind': 4921, 'rates': 3633, 'wildlife': 4913, 'refuge': 3695, 'incredible': 2293, 'pat': 3266, 'jackson': 2430, 'flags': 1823, 'luther': 2730, 'todd': 4567, 'races': 3602, 'consent': 1028, 'asylum': 437, 'seekers': 4010, 'bear': 533, 'poland': 3374, 'hungary': 2222, 'blog': 615, 'wikileaks': 4911, 'hack': 2054, 'dear': 1222, 'exclusive': 1646, 'materials': 2799, 'roy': 3906, 'ranks': 3623, 'rapidly': 3627, 'regards': 3706, 'clients': 899, 'kenyatta': 2515, 'odinga': 3102, 'harris': 2086, 'highlighted': 2145, 'ferguson': 1776, 'gray': 2019, 'progressives': 3501, 'brutality': 688, 'isolated': 2415, 'turnout': 4663, 'violate': 4788, 'gap': 1938, 'bathroom': 526, 'endorse': 1559, 'separately': 4041, 'abadi': 108, '9th': 107, 'electronic': 1522, 'swedish': 4413, 'sweden': 4412, 'formed': 1866, 'witch': 4930, 'pastor': 3265, 'disney': 1383, 'device': 1335, 'hatch': 2095, 'irish': 2404, 'recognition': 3671, 'ease': 1481, 'wasserman': 4848, 'schultz': 3972, 'factor': 1713, 'julian': 2489, 'assange': 422, 'podesta': 3369, 'advisor': 203, 'weiner': 4878, 'guidance': 2044, 'aclu': 151, 'pakistan': 3224, 'multi': 2960, 'bay': 529, 'roger': 3884, 'retaliation': 3831, 'tech': 4458, 'outlined': 3188, 'brennan': 659, 'jordan': 2472, 'pakistani': 3225, 'cleared': 894, 'overcome': 3198, 'gates': 1943, 'fcc': 1751, 'providers': 3546, 'customers': 1183, 'applause': 364, 'rogers': 3885, 'snyder': 4161, 'struggled': 4329, 'urge': 4735, 'divisions': 1400, 'disputes': 1388, '64': 95, 'punish': 3565, 'medicine': 2829, 'delegate': 1265, 'movements': 2949, 'bridge': 662, 'villages': 4787, 'bathrooms': 527, 'pride': 3455, 'powell': 3415, 'economist': 1492, 'taylor': 4450, 'cohn': 922, 'imposing': 2271, 'monetary': 2923, 'guidelines': 2045, 'associate': 432, 'healthy': 2115, 'militias': 2873, 'gabriel': 1930, 'discredit': 1371, 'theme': 4506, 'advertising': 198, 'megyn': 2833, 'reilly': 3722, 'awards': 477, 'uncovered': 4691, 'avoided': 474, 'nelson': 3025, 'observers': 3089, 'cleansing': 892, 'killer': 2526, 'lands': 2566, 'denounced': 1289, 'tested': 4489, 'cfpb': 807, 'hariri': 2084, 'electric': 1521, 'punished': 3566, 'stocks': 4293, 'remark': 3746, 'stein': 4282, 'chanting': 828, 'offended': 3105, 'wells': 4884, 'afford': 214, 'unemployment': 4700, 'zuma': 4999, 'exception': 1643, 'stick': 4290, 'deir': 1262, 'zor': 4998, 'sharpton': 4084, 'treason': 4625, 'contentious': 1055, 'rand': 3619, 'matthew': 2803, 'myanmar': 2975, 'bangladesh': 505, 'arkansas': 394, 'krg': 2550, 'kirkuk': 2534, 'mulvaney': 2962, 'crossing': 1166, 'cotton': 1112, 'parade': 3233, 'empty': 1551, 'prize': 3474, 'neo': 3026, 'airports': 253, 'pac': 3213, 'skeptical': 4148, 'berkeley': 568, 'jimmy': 2456, 'saleh': 3934, 'doctors': 1406, 'rocket': 3883, 'convinced': 1086, 'jump': 2491, 'funeral': 1923, 'improving': 2275, 'successfully': 4350, 'defendants': 1254, '62': 93, 'abortions': 118, 'prayer': 3424, 'rakhine': 3615, 'rohingya': 3886, 'foster': 1874, '1992': 17, 'oath': 3083, 'fails': 1719, 'malaysia': 2757, 'feared': 1754, 'franken': 1891, 'potus': 3413, 'nationalists': 2988, 'prisoners': 3469, 'irs': 2406, 'maher': 2742, 'ireland': 2403, 'nonsense': 3057, 'blasio': 606, 'shots': 4105, 'recount': 3679, 'australian': 462, 'roberts': 3881, 'daca': 1190, 'dreamers': 1447, 'ousted': 3182, 'hoax': 2166, 'embarrassment': 1535, 'foxnews': 1884, 'connecticut': 1024, 'suu': 4410, 'kyi': 2556, 'buddhist': 689, 'nobel': 3047, 'anc': 310, 'signing': 4126, 'neighborhoods': 3020, 'houthis': 2208, 'phrase': 3329, 'abedin': 114, 'electors': 1520, 'desert': 1306, 'colbert': 923, 'cancel': 738, 'statistics': 4275, 'tend': 4474, 'giuliani': 1970, 'baldwin': 497, 'teams': 4456, 'clapper': 886, 'audit': 458, 'intends': 2357, 'conyers': 1088, 'rajoy': 3614, 'tapper': 4438, 'quot': 3598, 'comedy': 944, 'caribbean': 762, 'sisi': 4138}\n"
          ],
          "name": "stdout"
        }
      ]
    },
    {
      "cell_type": "markdown",
      "metadata": {
        "id": "6ct7Tpe9PmPn",
        "colab_type": "text"
      },
      "source": [
        "#Naive Bayes"
      ]
    },
    {
      "cell_type": "code",
      "metadata": {
        "id": "csCCJTa4OMJX",
        "colab_type": "code",
        "colab": {}
      },
      "source": [
        "from sklearn.naive_bayes import MultinomialNB"
      ],
      "execution_count": 16,
      "outputs": []
    },
    {
      "cell_type": "code",
      "metadata": {
        "id": "ZTr5nvF3OOPf",
        "colab_type": "code",
        "colab": {
          "base_uri": "https://localhost:8080/",
          "height": 34
        },
        "outputId": "ea7746a7-d5db-4400-e744-14ccd7151ffa"
      },
      "source": [
        "#fit the training dataset on the NB classifier\n",
        "Naive = MultinomialNB() #create model\n",
        "Naive.fit(X_train_counts, Y_train)"
      ],
      "execution_count": 17,
      "outputs": [
        {
          "output_type": "execute_result",
          "data": {
            "text/plain": [
              "MultinomialNB(alpha=1.0, class_prior=None, fit_prior=True)"
            ]
          },
          "metadata": {
            "tags": []
          },
          "execution_count": 17
        }
      ]
    },
    {
      "cell_type": "code",
      "metadata": {
        "id": "hYlab-6hPzRc",
        "colab_type": "code",
        "colab": {}
      },
      "source": [
        "#Test Accuracy\n",
        "from sklearn.metrics import accuracy_score"
      ],
      "execution_count": 18,
      "outputs": []
    },
    {
      "cell_type": "code",
      "metadata": {
        "id": "znu7Z9zkP7-g",
        "colab_type": "code",
        "colab": {}
      },
      "source": [
        "#predict the labels on validation dataset\n",
        "predictions_NB = Naive.predict(X_test)"
      ],
      "execution_count": 19,
      "outputs": []
    },
    {
      "cell_type": "code",
      "metadata": {
        "id": "FLFCoNZvQBh4",
        "colab_type": "code",
        "colab": {
          "base_uri": "https://localhost:8080/",
          "height": 34
        },
        "outputId": "6d119c72-1a9a-436f-c248-56468cc99dc2"
      },
      "source": [
        "#Use accuracy score fn to get accuracy. Very high accuracy b/c of assumption of independence\n",
        "print(\"Accuracy Score:\", accuracy_score(predictions_NB, Y_test)*100)"
      ],
      "execution_count": 20,
      "outputs": [
        {
          "output_type": "stream",
          "text": [
            "Accuracy Score: 94.37511142806204\n"
          ],
          "name": "stdout"
        }
      ]
    },
    {
      "cell_type": "markdown",
      "metadata": {
        "id": "wpK5pxKcQZld",
        "colab_type": "text"
      },
      "source": [
        "#Onion Test"
      ]
    },
    {
      "cell_type": "code",
      "metadata": {
        "id": "DTemgDWYQKsw",
        "colab_type": "code",
        "colab": {}
      },
      "source": [
        "# link: https://entertainment.theonion.com/drake-fans-accuse-kenny-chesney-of-manipulating-billboa-1843484082\n",
        "onion = [\"\"\"Calling the country singer’s place at the top of Top 200 completely illegitimate, fans of the \n",
        "            rapper–singer Drake took to social media Friday to accuse Kenny Chesney of manipulating Billboard’s \n",
        "            algorithm by putting effort into his album. “It’s just unfair that this guy could keep Drake from his\n",
        "            rightful place on the charts by putting out quality music that he actually cares about,” said Aiden \n",
        "            Howard, 14, who echoed the sentiments of Drake fans worldwide in his assertion that the artist’s \n",
        "            mediocre B-sides deserved more acclaim and recognition. “He clearly gamed the streaming numbers when \n",
        "            he decided to put time and energy into his craft. It’s such horseshit that Billboard rewards that \n",
        "            behavior and punishes Drizzy for making a half-assed mixtape full of songs he’d already dropped on \n",
        "            SoundCloud. How the hell is ‘Toosie Slide’ going to compare to a song that the artist thought about \n",
        "            for more than 15 minutes?” At press time, Drake released a statement asking fans to ignore Kenny \n",
        "            Chesney and focus on the horseshit that he just released.\"\"\"]"
      ],
      "execution_count": 21,
      "outputs": []
    },
    {
      "cell_type": "code",
      "metadata": {
        "id": "C24X3Y6gQcCQ",
        "colab_type": "code",
        "colab": {}
      },
      "source": [
        "onion_vec = count_vect.transform(onion) #create bag of words"
      ],
      "execution_count": 23,
      "outputs": []
    },
    {
      "cell_type": "code",
      "metadata": {
        "id": "9wkAqhkaREJw",
        "colab_type": "code",
        "colab": {}
      },
      "source": [
        "predict_onion = Naive.predict(onion_vec) #apply it to trained model"
      ],
      "execution_count": 24,
      "outputs": []
    },
    {
      "cell_type": "code",
      "metadata": {
        "id": "6MGDqEuGRMkI",
        "colab_type": "code",
        "colab": {
          "base_uri": "https://localhost:8080/",
          "height": 34
        },
        "outputId": "e36c53ae-e2cc-48d0-d9ea-8fe65935b595"
      },
      "source": [
        "print(predict_onion) #1 = fake news"
      ],
      "execution_count": 25,
      "outputs": [
        {
          "output_type": "stream",
          "text": [
            "[1]\n"
          ],
          "name": "stdout"
        }
      ]
    },
    {
      "cell_type": "markdown",
      "metadata": {
        "id": "NzFVTjPORVQr",
        "colab_type": "text"
      },
      "source": [
        "#New York Times' Test"
      ]
    },
    {
      "cell_type": "code",
      "metadata": {
        "id": "bwlCNI_BRQrA",
        "colab_type": "code",
        "colab": {}
      },
      "source": [
        "# link: https://www.nytimes.com/2020/05/16/us/politics/linick-investigation-pompeo.html?action=click&module=Top%20Stories&pgtype=Homepage\n",
        "nyt = [\"\"\"Two top congressional Democrats opened an investigation on Saturday into President Trump’s removal of \n",
        "          Steve A. Linick, who led the office of the inspector general at the State Department, citing a pattern \n",
        "          of “politically-motivated firing of inspectors general.” Mr. Trump told Speaker Nancy Pelosi late \n",
        "          Friday night that he was ousting Mr. Linick, who was named by President Barack Obama to the State \n",
        "          Department post, and replacing him with an ambassador with close ties to Vice President Mike Pence in \n",
        "          the latest purge of inspectors general whom Mr. Trump has deemed insufficiently loyal to his \n",
        "          administration. In letters to the White House, State Department, and Mr. Linick, Representative Eliot \n",
        "          L. Engel of New York, the chairman of the House Foreign Affairs Committee, and Senator Bob Menendez of \n",
        "          New Jersey, the top Democrat on the Senate Foreign Relations Committee, requested that the administration\n",
        "          turn over records and information related to the firing of Mr. Linick as well as “records of all I.G. \n",
        "          investigations involving the Office of the Secretary that were open, pending, or incomplete at the \n",
        "          time of Mr. Linick’s firing.” Mr. Engel and Mr. Menendez said in their letters that they believe \n",
        "          Secretary of State Mike Pompeo recommended Mr. Linick’s ouster because he had opened an investigation \n",
        "          into Mr. Pompeo’s conduct. The lawmakers did not provide any more details, but a Democratic aide said \n",
        "          that Mr. Linick had been looking into whether Mr. Pompeo had misused a political appointee at the State \n",
        "          Department to perform personal tasks for himself and his wife. “Such an action, transparently designed to\n",
        "          protect Secretary Pompeo from personal accountability, would undermine the foundation of our democratic \n",
        "          institutions and may be an illegal act of retaliation,” the lawmakers wrote. Under law, the administration\n",
        "          must notify Congress 30 days before formally terminating an inspector general. Mr. Linick is expected to \n",
        "          leave his post then. Mr. Trump’s decision to remove Mr. Linick is the latest in a series of ousters aimed\n",
        "          at inspectors general who the president and his allies believe are opposed to his agenda. In May, Mr. \n",
        "          Trump moved to oust Christi A. Grimm, the principal deputy inspector general for the Department of Health\n",
        "          and Human Services, whose office had issued a report revealing the dire state of the nation’s response to\n",
        "          the pathogen. He has also taken steps to remove two other inspectors general, for the intelligence\n",
        "          community and for the Defense Department. Mr. Linick was spotlighted during the impeachment inquiry when \n",
        "          he requested an urgent meeting with congressional staff members to give them copies of documents related \n",
        "          to the State Department and Ukraine, signaling they could be relevant to the House investigation into \n",
        "          whether President Trump pressured Ukraine to investigate former Vice President Joseph R. Biden Jr. and \n",
        "          his son Hunter Biden. The documents — a record of contacts between Rudolph W. Giuliani, the president’s \n",
        "          personal lawyer, and Ukrainian prosecutors, as well as accounts of Ukrainian law enforcement proceedings \n",
        "          — turned out to be largely inconsequential.\"\"\"]"
      ],
      "execution_count": 26,
      "outputs": []
    },
    {
      "cell_type": "code",
      "metadata": {
        "id": "472Oh-w6ReP5",
        "colab_type": "code",
        "colab": {}
      },
      "source": [
        "nyt_vec = count_vect.transform(nyt) #create bag of words"
      ],
      "execution_count": 27,
      "outputs": []
    },
    {
      "cell_type": "code",
      "metadata": {
        "id": "1-p471tERj-I",
        "colab_type": "code",
        "colab": {}
      },
      "source": [
        "predict_nyt = Naive.predict(nyt_vec) #apply to model"
      ],
      "execution_count": 30,
      "outputs": []
    },
    {
      "cell_type": "code",
      "metadata": {
        "id": "NUTb5jJYRm-A",
        "colab_type": "code",
        "colab": {
          "base_uri": "https://localhost:8080/",
          "height": 34
        },
        "outputId": "fe1f312b-ca43-4c26-be7c-92e1d5614654"
      },
      "source": [
        "print(predict_nyt) #0 for false"
      ],
      "execution_count": 31,
      "outputs": [
        {
          "output_type": "stream",
          "text": [
            "[0]\n"
          ],
          "name": "stdout"
        }
      ]
    },
    {
      "cell_type": "code",
      "metadata": {
        "id": "D9Yi_DWTRslJ",
        "colab_type": "code",
        "colab": {}
      },
      "source": [
        ""
      ],
      "execution_count": null,
      "outputs": []
    }
  ]
}